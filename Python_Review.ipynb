{
  "cells": [
    {
      "cell_type": "markdown",
      "metadata": {
        "id": "view-in-github",
        "colab_type": "text"
      },
      "source": [
        "<a href=\"https://colab.research.google.com/github/swamyappu/ProgFound/blob/main/Python_Review.ipynb\" target=\"_parent\"><img src=\"https://colab.research.google.com/assets/colab-badge.svg\" alt=\"Open In Colab\"/></a>"
      ]
    },
    {
      "cell_type": "markdown",
      "id": "1723ef70",
      "metadata": {
        "id": "1723ef70"
      },
      "source": [
        "# Jupyter Notebook Tutorial\n",
        "\n",
        "+ Run selected cell: CRTL + ENTER\n",
        "+ insert a cell above: a\n",
        "+ insert a cell below: b\n",
        "+ delete a cell: x\n",
        "+ code auto complete: tab\n",
        "+ review function API: SHIFT + tab"
      ]
    },
    {
      "cell_type": "markdown",
      "id": "18e4433c",
      "metadata": {
        "id": "18e4433c"
      },
      "source": [
        "# Python Review"
      ]
    },
    {
      "cell_type": "markdown",
      "id": "b61ccdcf",
      "metadata": {
        "id": "b61ccdcf"
      },
      "source": [
        "- Python script is case sensitive\n",
        "- Indentation is used to denote for code block\n",
        "- \\# is the line comment, ''' ''' is the paragraph comment\n",
        "- A Python identifier is a sequence of characters that consists of letters, digits and underscores (_). An identifier must start with a letter of an underscore. It cannot start with a digit"
      ]
    },
    {
      "cell_type": "code",
      "execution_count": null,
      "id": "e4a0f1e2",
      "metadata": {
        "id": "e4a0f1e2"
      },
      "outputs": [],
      "source": [
        "# this is my first comment\n",
        "\"\"\"comment1\n",
        "comment2\n",
        "comment3\n",
        "\"\"\"\n",
        "# comment1\n",
        "# comment2\n",
        "# comment3"
      ]
    },
    {
      "cell_type": "markdown",
      "id": "02944e60",
      "metadata": {
        "id": "02944e60"
      },
      "source": [
        "#### Indentation\n",
        "- Python uses whitespace (tabs or spaces) to structure code block instead of using braces as in many other languages\n",
        "- Python statements also do not need to be terminated by semicolons. Semicolons can be used, however, to separate mutiple statements on a single line"
      ]
    },
    {
      "cell_type": "code",
      "execution_count": null,
      "id": "ad37f94a",
      "metadata": {
        "id": "ad37f94a"
      },
      "outputs": [],
      "source": [
        "x = 1\n",
        "if x > 0:\n",
        "    x = x + 1\n",
        "    print(x)\n",
        "else:\n",
        "    x = x - 1\n",
        "    print(x)"
      ]
    },
    {
      "cell_type": "code",
      "execution_count": null,
      "id": "ba2f3b91",
      "metadata": {
        "id": "ba2f3b91"
      },
      "outputs": [],
      "source": [
        "x = 3.14\n",
        "id(x)"
      ]
    },
    {
      "cell_type": "code",
      "execution_count": null,
      "id": "63eff691",
      "metadata": {
        "id": "63eff691"
      },
      "outputs": [],
      "source": [
        "x = 'hello'"
      ]
    },
    {
      "cell_type": "code",
      "execution_count": null,
      "id": "b8d7bc35",
      "metadata": {
        "id": "b8d7bc35"
      },
      "outputs": [],
      "source": [
        "a = 1; b = 2; c = 3"
      ]
    },
    {
      "cell_type": "code",
      "execution_count": null,
      "id": "84ca624a",
      "metadata": {
        "id": "84ca624a"
      },
      "outputs": [],
      "source": [
        "s = 'hello'\n",
        "for i in s:\n",
        "    print(i, end=' ')"
      ]
    },
    {
      "cell_type": "code",
      "execution_count": null,
      "id": "49705ea7",
      "metadata": {
        "id": "49705ea7"
      },
      "outputs": [],
      "source": [
        "print(1, 2, 3, sep='+')"
      ]
    },
    {
      "cell_type": "markdown",
      "id": "01cdd1b7",
      "metadata": {
        "id": "01cdd1b7"
      },
      "source": [
        "### Line Continuation\n",
        "In Python code, a statement can be continued from one line to the next in two different ways: implicit and explicit line continuation\n",
        "- Implicit line continuation\n",
        "  - Any statement containing opening parentheses (`(`), brackets (`[`), or curly braces (`{`) is presumed to be incomplete until all matching parentheses, brackets, and braces have been encountered -   - Until then, the statement can be implicitly continued across lines without raising an error\n",
        "  \n",
        "- Explicit line continuation\n",
        "  - To indicate explicit line continuation, you can specify a backslash (`\\`) character as the final character on the line\n",
        "  - The backslash character must be the last character on the line. Not even whitespace is allowed after it\n",
        "  - In that case, Python ignores the following newline, and the statement is effectively continued on next line"
      ]
    },
    {
      "cell_type": "code",
      "execution_count": null,
      "id": "c532b4fa",
      "metadata": {
        "id": "c532b4fa"
      },
      "outputs": [],
      "source": [
        "x = (1 + 2 + 3 + 4 + 5 +\n",
        "max(33, 66, 99))\n",
        "x"
      ]
    },
    {
      "cell_type": "code",
      "execution_count": null,
      "id": "5e3be23d",
      "metadata": {
        "id": "5e3be23d"
      },
      "outputs": [],
      "source": [
        "x = 1 + 2 + 3 + 4 + 5 + \\\n",
        "max(33, 66, 99)\n",
        "x"
      ]
    },
    {
      "cell_type": "markdown",
      "id": "0384037c",
      "metadata": {
        "id": "0384037c"
      },
      "source": [
        "#### Everything is Object\n",
        "An important characteristic of the Python language is the consistency of its object model. Every number, string, data structure, function, class, module, etc. is a Python object. **Each object has an associated type and internal data**"
      ]
    },
    {
      "cell_type": "markdown",
      "id": "954ef444",
      "metadata": {
        "id": "954ef444"
      },
      "source": [
        "#### Dynamic Typing and Type Checking\n",
        "Python uses dynamic typing—it determines the type of the object a variable refers to while executing your code. You can use `type()` or `isinstance()` to check the type of an object\n",
        "\n",
        "A variable in Python is actually a reference to an object. For `x = 7`, we say `x` is an integer variable that holds value 7. Strictly speaking, `x` is a variable that references an `int` object for value 7. To check if two variables reference the same object, use the `is` keyword. `is not` is also perfectly valid if you want to check that two objects are not the same\n",
        "\n",
        "<div>\n",
        "<img src=\"attachment:f1.png\" width=\"260\"/>\n",
        "</div>"
      ]
    },
    {
      "cell_type": "code",
      "execution_count": null,
      "id": "b5e26199",
      "metadata": {
        "id": "b5e26199"
      },
      "outputs": [],
      "source": [
        "a = 6.0\n",
        "type(a)"
      ]
    },
    {
      "cell_type": "code",
      "execution_count": null,
      "id": "9af3bada",
      "metadata": {
        "id": "9af3bada"
      },
      "outputs": [],
      "source": [
        "isinstance(a, int)"
      ]
    },
    {
      "cell_type": "code",
      "execution_count": null,
      "id": "35cd2daa",
      "metadata": {
        "id": "35cd2daa"
      },
      "outputs": [],
      "source": [
        "#isinstance() can accept a tuple of types\n",
        "isinstance(a, (int, float, str))"
      ]
    },
    {
      "cell_type": "code",
      "execution_count": null,
      "id": "0d1bf83e",
      "metadata": {
        "id": "0d1bf83e"
      },
      "outputs": [],
      "source": [
        "a = [1, 2, 3]\n",
        "b = a\n",
        "c = list(a)\n",
        "a is b"
      ]
    },
    {
      "cell_type": "code",
      "execution_count": null,
      "id": "9d20647c",
      "metadata": {
        "id": "9d20647c"
      },
      "outputs": [],
      "source": [
        "id(a)"
      ]
    },
    {
      "cell_type": "code",
      "execution_count": null,
      "id": "01ade0e1",
      "metadata": {
        "id": "01ade0e1"
      },
      "outputs": [],
      "source": [
        "id(b)"
      ]
    },
    {
      "cell_type": "code",
      "execution_count": null,
      "id": "a5fb83cc",
      "metadata": {
        "id": "a5fb83cc"
      },
      "outputs": [],
      "source": [
        "id(c)"
      ]
    },
    {
      "cell_type": "code",
      "execution_count": null,
      "id": "85f695f2",
      "metadata": {
        "id": "85f695f2"
      },
      "outputs": [],
      "source": [
        "a is not c"
      ]
    },
    {
      "cell_type": "markdown",
      "id": "4702f50d",
      "metadata": {
        "id": "4702f50d"
      },
      "source": [
        "Since `list` always creates a new Python list (i.e., a copy), we can be sure that `c` is distinct from `a`. Comparing with `is` is not the same as the `==` operator"
      ]
    },
    {
      "cell_type": "code",
      "execution_count": null,
      "id": "feb13de0",
      "metadata": {
        "id": "feb13de0"
      },
      "outputs": [],
      "source": [
        "a == c"
      ]
    },
    {
      "cell_type": "markdown",
      "id": "94090e73",
      "metadata": {
        "id": "94090e73"
      },
      "source": [
        "A very common use of `is` and `is not` is to check if a variable is `None`, since there is only one instance of `None`"
      ]
    },
    {
      "cell_type": "code",
      "execution_count": null,
      "id": "68a179f7",
      "metadata": {
        "id": "68a179f7"
      },
      "outputs": [],
      "source": [
        "a = None\n",
        "a is None"
      ]
    },
    {
      "cell_type": "markdown",
      "id": "91fa8bd0",
      "metadata": {
        "id": "91fa8bd0"
      },
      "source": [
        "### Data Type in Python\n",
        "Every number in Python is an object. For example, when we define an integer in Python, such as x = 100, x is not just a \"raw\" integer. It's actually a pointer to a compound C structure, which contains several values.\n",
        "This means that there is some overhead in storing an integer in Python as compared to an integer in a compiled language like C.\n",
        "\n",
        "<div>\n",
        "<img src=\"attachment:f1.png\" width=\"350\"/>\n",
        "</div>\n",
        "\n",
        "A single integer in Python actually contains four pieces (see the structure in the cell below):\n",
        "    \n",
        "`struct _longobject {\n",
        "    long ob_refcnt;\n",
        "    PyTypeObject *ob_type;\n",
        "    size_t ob_size;\n",
        "    long ob_digit[1];\n",
        "};`\n",
        "\n",
        "- ob_refcnt, a reference count that helps Python silently handle memory allocation and deallocation\n",
        "- ob_type, which encodes the type of the variable\n",
        "- ob_size, which specifies the size of the following data members\n",
        "- ob_digit, which contains the actual integer value that we expect the Python variable to represent"
      ]
    },
    {
      "cell_type": "markdown",
      "id": "a1580da7",
      "metadata": {
        "id": "a1580da7"
      },
      "source": [
        "#### Standard Python Scalar Type\n",
        "- `int`: arbitrary precision signed integer\n",
        "- `float`: double precision (64-bit) floating point number\n",
        "- `bytes`: raw ASCII bytes\n",
        "- `str`: string type, holds Unicode (UTF-8 encoded) strings\n",
        "- `bool`: Boolean type, `True` or `False`\n",
        "- `None`: Python's \"null\" value (only one instance of the `None` object exists)"
      ]
    },
    {
      "cell_type": "markdown",
      "id": "d73d54d0",
      "metadata": {
        "id": "d73d54d0"
      },
      "source": [
        "### String\n",
        "A string is a sequence of Unicode characters. String literals can be enclosed in matching single quotes (') or double quotes (\"). **Python strings are immutable**. Python does not have a data type for characters. A single-character string represents a character.\n",
        "You can use the + operator add two numbers. The + operator can also be used to concatenate (combine) two strings.\n",
        "#### Testing Strings\n",
        "<div>\n",
        "<img src=\"attachment:f1.png\" width=\"500\"/>\n",
        "</div>"
      ]
    },
    {
      "cell_type": "code",
      "execution_count": null,
      "id": "6cf1908b",
      "metadata": {
        "id": "6cf1908b"
      },
      "outputs": [],
      "source": [
        "# the space character is not alnum\n",
        "s = 'welcome to python3'\n",
        "s.isalnum()"
      ]
    },
    {
      "cell_type": "code",
      "execution_count": null,
      "id": "57f33f00",
      "metadata": {
        "id": "57f33f00"
      },
      "outputs": [],
      "source": [
        "s1 = ' \\t \\n'\n",
        "s1.isspace()"
      ]
    },
    {
      "cell_type": "code",
      "execution_count": null,
      "id": "b4c83455",
      "metadata": {
        "id": "b4c83455"
      },
      "outputs": [],
      "source": [
        "''.isspace()"
      ]
    },
    {
      "cell_type": "code",
      "execution_count": null,
      "id": "fdd5bb1a",
      "metadata": {
        "id": "fdd5bb1a"
      },
      "outputs": [],
      "source": [
        "'3abc'.isidentifier()"
      ]
    },
    {
      "cell_type": "code",
      "execution_count": null,
      "id": "f63e3f85",
      "metadata": {
        "id": "f63e3f85"
      },
      "outputs": [],
      "source": [
        "'for'.isidentifier()"
      ]
    },
    {
      "cell_type": "code",
      "execution_count": null,
      "id": "09ec3f02",
      "metadata": {
        "id": "09ec3f02"
      },
      "outputs": [],
      "source": [
        "'abc$abc'.islower()"
      ]
    },
    {
      "cell_type": "code",
      "execution_count": null,
      "id": "cddc387a",
      "metadata": {
        "id": "cddc387a"
      },
      "outputs": [],
      "source": [
        "'123456'.isdigit()"
      ]
    },
    {
      "cell_type": "markdown",
      "id": "f6a7fa67",
      "metadata": {
        "id": "f6a7fa67"
      },
      "source": [
        "#### Searching for Substrings\n",
        "<div>\n",
        "<img src=\"attachment:f2.png\" width=\"500\"/>\n",
        "</div>"
      ]
    },
    {
      "cell_type": "code",
      "execution_count": null,
      "id": "2c02c21a",
      "metadata": {
        "id": "2c02c21a"
      },
      "outputs": [],
      "source": [
        "s"
      ]
    },
    {
      "cell_type": "code",
      "execution_count": null,
      "id": "722afead",
      "metadata": {
        "id": "722afead"
      },
      "outputs": [],
      "source": [
        "s.endswith('thon')"
      ]
    },
    {
      "cell_type": "code",
      "execution_count": null,
      "id": "ae1c1b21",
      "metadata": {
        "id": "ae1c1b21"
      },
      "outputs": [],
      "source": [
        "s.count('o')"
      ]
    },
    {
      "cell_type": "code",
      "execution_count": null,
      "id": "ee1bc2ae",
      "metadata": {
        "id": "ee1bc2ae"
      },
      "outputs": [],
      "source": [
        "s.find('o')"
      ]
    },
    {
      "cell_type": "markdown",
      "id": "59a5ea8d",
      "metadata": {
        "id": "59a5ea8d"
      },
      "source": [
        "#### Converting Strings\n",
        "<div>\n",
        "<img src=\"attachment:f1.png\" width=\"500\"/>\n",
        "</div>"
      ]
    },
    {
      "cell_type": "code",
      "execution_count": null,
      "id": "205a8070",
      "metadata": {
        "id": "205a8070"
      },
      "outputs": [],
      "source": [
        "s = 'welcome to python3'"
      ]
    },
    {
      "cell_type": "code",
      "execution_count": null,
      "id": "e8486841",
      "metadata": {
        "id": "e8486841"
      },
      "outputs": [],
      "source": [
        "s1 = s.capitalize()\n",
        "s1"
      ]
    },
    {
      "cell_type": "code",
      "execution_count": null,
      "id": "70de294d",
      "metadata": {
        "id": "70de294d"
      },
      "outputs": [],
      "source": [
        "s"
      ]
    },
    {
      "cell_type": "code",
      "execution_count": null,
      "id": "e8df0ce3",
      "metadata": {
        "id": "e8df0ce3"
      },
      "outputs": [],
      "source": [
        "s.title()"
      ]
    },
    {
      "cell_type": "code",
      "execution_count": null,
      "id": "f77a0e06",
      "metadata": {
        "id": "f77a0e06"
      },
      "outputs": [],
      "source": [
        "s.replace('python', 'java')"
      ]
    },
    {
      "cell_type": "code",
      "execution_count": null,
      "id": "f5e406ba",
      "metadata": {
        "id": "f5e406ba"
      },
      "outputs": [],
      "source": [
        "s"
      ]
    },
    {
      "cell_type": "code",
      "execution_count": null,
      "id": "105d023a",
      "metadata": {
        "id": "105d023a"
      },
      "outputs": [],
      "source": [
        "s.replace('o', 'x', 2)"
      ]
    },
    {
      "cell_type": "markdown",
      "id": "9b01f36b",
      "metadata": {
        "id": "9b01f36b"
      },
      "source": [
        "`replace` will substitute occurences of one pattern for another. It is commonly used to delete patterns, too, by passing an empty string"
      ]
    },
    {
      "cell_type": "code",
      "execution_count": null,
      "id": "7b4293b6",
      "metadata": {
        "id": "7b4293b6"
      },
      "outputs": [],
      "source": [
        "s = '$360'\n",
        "s.replace('$', '')"
      ]
    },
    {
      "cell_type": "markdown",
      "id": "1236b516",
      "metadata": {
        "id": "1236b516"
      },
      "source": [
        "#### Striping Whitespace Characters\n",
        "<div>\n",
        "<img src=\"attachment:f2.png\" width=\"500\"/>\n",
        "</div>"
      ]
    },
    {
      "cell_type": "code",
      "execution_count": null,
      "id": "51a30322",
      "metadata": {
        "id": "51a30322"
      },
      "outputs": [],
      "source": [
        "s = '   Welcome to Python\\t'\n",
        "s1 = s.lstrip()\n",
        "s1"
      ]
    },
    {
      "cell_type": "code",
      "execution_count": null,
      "id": "d6d00bb4",
      "metadata": {
        "id": "d6d00bb4"
      },
      "outputs": [],
      "source": [
        "s"
      ]
    },
    {
      "cell_type": "code",
      "execution_count": null,
      "id": "7b5b390d",
      "metadata": {
        "id": "7b5b390d"
      },
      "outputs": [],
      "source": [
        "s = 'www.tiktok.com'\n",
        "s.strip('wcom.')"
      ]
    },
    {
      "cell_type": "markdown",
      "id": "57419b2e",
      "metadata": {
        "id": "57419b2e"
      },
      "source": [
        "#### Two More Methods\n",
        "- `split() # Splits the string at the specified separator, and returns a list`\n",
        "- `splitlines() # Splits the string at line breaks (`\\n`) and returns a list`"
      ]
    },
    {
      "cell_type": "code",
      "execution_count": null,
      "id": "7f2a2bfc",
      "metadata": {
        "id": "7f2a2bfc"
      },
      "outputs": [],
      "source": [
        "items = 'Jane John Peter Susan'.split()\n",
        "items"
      ]
    },
    {
      "cell_type": "code",
      "execution_count": null,
      "id": "fb2d42ae",
      "metadata": {
        "id": "fb2d42ae"
      },
      "outputs": [],
      "source": [
        "lines = \"\"\"hello world\n",
        "DSA 5100\n",
        "is fun\"\"\"\n",
        "lines"
      ]
    },
    {
      "cell_type": "code",
      "execution_count": null,
      "id": "0e1eee7c",
      "metadata": {
        "id": "0e1eee7c"
      },
      "outputs": [],
      "source": [
        "lines.splitlines()"
      ]
    },
    {
      "cell_type": "code",
      "execution_count": null,
      "id": "4c8172f9",
      "metadata": {
        "id": "4c8172f9"
      },
      "outputs": [],
      "source": [
        "# Extract 2021 from string 'November 1, 2021'\n",
        "items = '11/01/2021'.split('/')\n",
        "items[2]"
      ]
    },
    {
      "cell_type": "code",
      "execution_count": null,
      "id": "8621eaa3",
      "metadata": {
        "id": "8621eaa3"
      },
      "outputs": [],
      "source": [
        "s1 = 'abc@ucmo.edu'\n",
        "result = s1.split('@')\n",
        "result[0]"
      ]
    },
    {
      "cell_type": "code",
      "execution_count": null,
      "id": "acc098d2",
      "metadata": {
        "id": "acc098d2"
      },
      "outputs": [],
      "source": [
        "val = 'a,b,  guido'\n",
        "val.split(',')"
      ]
    },
    {
      "cell_type": "markdown",
      "id": "bebc28a3",
      "metadata": {
        "id": "bebc28a3"
      },
      "source": [
        "`split` is often combined with `strip` to trim whitespace (including line breaks)"
      ]
    },
    {
      "cell_type": "code",
      "execution_count": null,
      "id": "2bc4b00a",
      "metadata": {
        "id": "2bc4b00a"
      },
      "outputs": [],
      "source": [
        "pieces = [x.strip() for x in val.split(',')]\n",
        "pieces"
      ]
    },
    {
      "cell_type": "markdown",
      "id": "1663618a",
      "metadata": {
        "id": "1663618a"
      },
      "source": [
        "These substrings can be concatenated together using `+`"
      ]
    },
    {
      "cell_type": "code",
      "execution_count": null,
      "id": "86c95394",
      "metadata": {
        "id": "86c95394"
      },
      "outputs": [],
      "source": [
        "first, second, third = pieces"
      ]
    },
    {
      "cell_type": "code",
      "execution_count": null,
      "id": "f2724f0a",
      "metadata": {
        "id": "f2724f0a"
      },
      "outputs": [],
      "source": [
        "first + '::' + second + '::' + third"
      ]
    },
    {
      "cell_type": "markdown",
      "id": "d8c922b0",
      "metadata": {
        "id": "d8c922b0"
      },
      "source": [
        "A faster and more Pythonic way is to pass a list or tuple to the `join` method on the string '::'"
      ]
    },
    {
      "cell_type": "code",
      "execution_count": null,
      "id": "745d3361",
      "metadata": {
        "id": "745d3361"
      },
      "outputs": [],
      "source": [
        "'::'.join(pieces)"
      ]
    },
    {
      "cell_type": "code",
      "execution_count": null,
      "id": "ed385980",
      "metadata": {
        "id": "ed385980"
      },
      "outputs": [],
      "source": [
        "'::'.join('hello')"
      ]
    },
    {
      "cell_type": "code",
      "execution_count": null,
      "id": "33c074cf",
      "metadata": {
        "id": "33c074cf"
      },
      "outputs": [],
      "source": [
        "'::'.join('hello', 'world')"
      ]
    },
    {
      "cell_type": "code",
      "execution_count": null,
      "id": "a9d6a439",
      "metadata": {
        "id": "a9d6a439"
      },
      "outputs": [],
      "source": [
        "'::'.join(3)"
      ]
    },
    {
      "cell_type": "markdown",
      "id": "d0e95367",
      "metadata": {
        "id": "d0e95367"
      },
      "source": [
        "Other methods are concerned with locating substrings. Using Python's `in` keyword is the best way to detect a substring, though `index` and `find` can also be used"
      ]
    },
    {
      "cell_type": "code",
      "execution_count": null,
      "id": "dc64151a",
      "metadata": {
        "id": "dc64151a"
      },
      "outputs": [],
      "source": [
        "val"
      ]
    },
    {
      "cell_type": "code",
      "execution_count": null,
      "id": "c1e9a1e3",
      "metadata": {
        "id": "c1e9a1e3"
      },
      "outputs": [],
      "source": [
        "'guido' in val"
      ]
    },
    {
      "cell_type": "code",
      "execution_count": null,
      "id": "978a8b09",
      "metadata": {
        "id": "978a8b09"
      },
      "outputs": [],
      "source": [
        "# if not found, an exception is raised\n",
        "val.index(':')"
      ]
    },
    {
      "cell_type": "code",
      "execution_count": null,
      "id": "cd404e75",
      "metadata": {
        "id": "cd404e75"
      },
      "outputs": [],
      "source": [
        "# if not found, -1 is returned\n",
        "val.find(':')"
      ]
    },
    {
      "cell_type": "markdown",
      "id": "462d2ec4",
      "metadata": {
        "id": "462d2ec4"
      },
      "source": [
        "### Formatted String Literals\n",
        "f-strings are string literals that have an `f` at the beginning and curly braces containing expressions that will be replaced with their values. Because f-strings are evaluated at runtime, you can put any and all valid Python expressions in them"
      ]
    },
    {
      "cell_type": "code",
      "execution_count": null,
      "id": "e32340e6",
      "metadata": {
        "id": "e32340e6",
        "outputId": "1d979f76-70d5-45cd-dee5-6955c1a75687",
        "colab": {
          "base_uri": "https://localhost:8080/"
        }
      },
      "outputs": [
        {
          "output_type": "stream",
          "name": "stdout",
          "text": [
            "Hello John! You are 36.\n"
          ]
        }
      ],
      "source": [
        "name = 'John'\n",
        "age = 36\n",
        "print(f'Hello {name}! You are {age}.')"
      ]
    },
    {
      "cell_type": "code",
      "execution_count": null,
      "id": "1eedfbc1",
      "metadata": {
        "id": "1eedfbc1"
      },
      "outputs": [],
      "source": [
        "print(f'Hello {name.lower()}! You are {age}.')"
      ]
    },
    {
      "cell_type": "code",
      "execution_count": null,
      "id": "61625df2",
      "metadata": {
        "id": "61625df2"
      },
      "outputs": [],
      "source": [
        "# using format method\n",
        "print('Hello {}! You are {}'.format(name, age))"
      ]
    },
    {
      "cell_type": "code",
      "execution_count": null,
      "id": "0b094385",
      "metadata": {
        "id": "0b094385"
      },
      "outputs": [],
      "source": [
        "print('{1} {0} {1}'.format('Happy', 'Birthday'))"
      ]
    },
    {
      "cell_type": "markdown",
      "id": "b4b0d2b0",
      "metadata": {
        "id": "b4b0d2b0"
      },
      "source": [
        "### List\n",
        "\n",
        "A list is a sequence defined by the list class. Lists are used to store multiple items in a single variable. A list can contain the elements of the same type or mixed types. The elements in a list are separated by commas and are ecnclosed by a pair of brackets ([ ]).\n",
        "\n",
        "**List items are ordered, changeable, and allow duplicate values**\n",
        "\n",
        "List items are indexed, the first item has index `[0]`, the second item has index `[1]` etc."
      ]
    },
    {
      "cell_type": "code",
      "execution_count": null,
      "id": "f67b8dce",
      "metadata": {
        "id": "f67b8dce"
      },
      "outputs": [],
      "source": [
        "# For convenience, you may create a list using the following syntax\n",
        "\n",
        "list1 = [] # Same as list()\n",
        "list2 = [2, 3, 4] # Same as list([2, 3, 4])\n",
        "list3 = [\"red\", \"green\"] # Same as list([\"red\", \"green\"])"
      ]
    },
    {
      "cell_type": "markdown",
      "id": "56ec0ae4",
      "metadata": {
        "id": "56ec0ae4"
      },
      "source": [
        "### `list()` Function\n",
        "You can define a list with the built-in `list()` function\n",
        "\n",
        "```python\n",
        "list(<iter>)\n",
        "```\n",
        "\n",
        "The argument `<iter>` is an `iterable` which contains objects to be included in the list"
      ]
    },
    {
      "cell_type": "code",
      "execution_count": null,
      "id": "131a3f03",
      "metadata": {
        "id": "131a3f03"
      },
      "outputs": [],
      "source": [
        "# Creating Lists\n",
        "\n",
        "list1 = list() # Create an empty list\n",
        "list2 = list([2, 3, 4]) # Create a list with elements 2, 3, 4\n",
        "list3 = list([\"red\", \"green\", \"blue\"]) # Create a list with strings\n",
        "list4 = list(range(3, 6)) # Create a list with elements 3, 4, 5\n",
        "list5 = list(\"abcd\") # Create a list with characters a, b, c"
      ]
    },
    {
      "cell_type": "code",
      "execution_count": null,
      "id": "1e28702b",
      "metadata": {
        "id": "1e28702b"
      },
      "outputs": [],
      "source": [
        "range(3, 6)"
      ]
    },
    {
      "cell_type": "code",
      "execution_count": null,
      "id": "aa4dbe47",
      "metadata": {
        "id": "aa4dbe47"
      },
      "outputs": [],
      "source": [
        "list(range(3, 6))"
      ]
    },
    {
      "cell_type": "code",
      "execution_count": null,
      "id": "4fde3af6",
      "metadata": {
        "id": "4fde3af6"
      },
      "outputs": [],
      "source": [
        "list5 = list(\"abcd\")\n",
        "list5"
      ]
    },
    {
      "cell_type": "code",
      "execution_count": null,
      "id": "35144500",
      "metadata": {
        "id": "35144500"
      },
      "outputs": [],
      "source": [
        "l1 = list(True)\n",
        "l1"
      ]
    },
    {
      "cell_type": "code",
      "execution_count": null,
      "id": "2ea7b5d5",
      "metadata": {
        "id": "2ea7b5d5"
      },
      "outputs": [],
      "source": [
        "list([2, 3, 4])"
      ]
    },
    {
      "cell_type": "code",
      "execution_count": null,
      "id": "16f178da",
      "metadata": {
        "id": "16f178da"
      },
      "outputs": [],
      "source": [
        "list(2, 3, 4)"
      ]
    },
    {
      "cell_type": "code",
      "execution_count": null,
      "id": "223a550b",
      "metadata": {
        "id": "223a550b"
      },
      "outputs": [],
      "source": [
        "list(3)"
      ]
    },
    {
      "cell_type": "markdown",
      "id": "6697a76e",
      "metadata": {
        "id": "6697a76e"
      },
      "source": [
        "### `del` Statement\n",
        "The `del` statement can removes the specified index from a list. It can also delete a slice of the list or the list completely. In fact, it can delete any varibale from the interactive session"
      ]
    },
    {
      "cell_type": "code",
      "execution_count": null,
      "id": "d24d7f22",
      "metadata": {
        "id": "d24d7f22"
      },
      "outputs": [],
      "source": [
        "list3"
      ]
    },
    {
      "cell_type": "code",
      "execution_count": null,
      "id": "cb8fb2d3",
      "metadata": {
        "id": "cb8fb2d3"
      },
      "outputs": [],
      "source": [
        "del list3[0]\n",
        "list3"
      ]
    },
    {
      "cell_type": "code",
      "execution_count": null,
      "id": "a7265815",
      "metadata": {
        "id": "a7265815"
      },
      "outputs": [],
      "source": [
        "del list2"
      ]
    },
    {
      "cell_type": "code",
      "execution_count": null,
      "id": "841b7133",
      "metadata": {
        "id": "841b7133"
      },
      "outputs": [],
      "source": [
        "list2"
      ]
    },
    {
      "cell_type": "markdown",
      "id": "afb4576f",
      "metadata": {
        "id": "afb4576f"
      },
      "source": [
        "The `list` function is frequently used in data processing as a way to **materialize an iterator or generator expression**"
      ]
    },
    {
      "cell_type": "code",
      "execution_count": null,
      "id": "4be609ff",
      "metadata": {
        "id": "4be609ff"
      },
      "outputs": [],
      "source": [
        "range(6)"
      ]
    },
    {
      "cell_type": "code",
      "execution_count": null,
      "id": "a420d095",
      "metadata": {
        "id": "a420d095"
      },
      "outputs": [],
      "source": [
        "list(range(6))"
      ]
    },
    {
      "cell_type": "markdown",
      "id": "afddc396",
      "metadata": {
        "id": "afddc396"
      },
      "source": [
        "### Copy a List\n",
        "You cannot copy a list simply by typing `list2 = list1`. Because `list2` will only be a reference to `list1`, and changes made in `list1` will automatically also be made in `list2`\n",
        "\n",
        "There are ways to make a copy, one way is to use the built-in List method `copy()`. It returns a shallow copy"
      ]
    },
    {
      "cell_type": "code",
      "execution_count": null,
      "id": "c42e4191",
      "metadata": {
        "id": "c42e4191"
      },
      "outputs": [],
      "source": [
        "list1 = ['apple', 'banana', 'cherry']\n",
        "list2 = list1\n",
        "list2[0] = 'orange'\n",
        "list1"
      ]
    },
    {
      "cell_type": "code",
      "execution_count": null,
      "id": "bfe2a089",
      "metadata": {
        "id": "bfe2a089"
      },
      "outputs": [],
      "source": [
        "list1 = ['apple', 'banana', 'cherry']\n",
        "list2 = list1.copy()\n",
        "print(id(list1), id(list2))"
      ]
    },
    {
      "cell_type": "code",
      "execution_count": null,
      "id": "0f8ce49b",
      "metadata": {
        "id": "0f8ce49b"
      },
      "outputs": [],
      "source": [
        "print(id(list1[0]), id(list2[0]))"
      ]
    },
    {
      "cell_type": "code",
      "execution_count": null,
      "id": "4e7ef156",
      "metadata": {
        "id": "4e7ef156"
      },
      "outputs": [],
      "source": [
        "id('apple')"
      ]
    },
    {
      "cell_type": "code",
      "execution_count": null,
      "id": "50d8c773",
      "metadata": {
        "id": "50d8c773"
      },
      "outputs": [],
      "source": [
        "list2[0] = 'orange'\n",
        "list2"
      ]
    },
    {
      "cell_type": "code",
      "execution_count": null,
      "id": "a709dc82",
      "metadata": {
        "id": "a709dc82"
      },
      "outputs": [],
      "source": [
        "list1"
      ]
    },
    {
      "cell_type": "code",
      "execution_count": null,
      "id": "dcb29e75",
      "metadata": {
        "id": "dcb29e75"
      },
      "outputs": [],
      "source": [
        "print(id(list1[0]), id(list2[0]))"
      ]
    },
    {
      "cell_type": "code",
      "execution_count": null,
      "id": "7430c041",
      "metadata": {
        "id": "7430c041"
      },
      "outputs": [],
      "source": [
        "id('orange')"
      ]
    },
    {
      "cell_type": "markdown",
      "id": "2f450d3d",
      "metadata": {
        "id": "2f450d3d"
      },
      "source": [
        "### Common Operations for Lists\n",
        "\n",
        "- `x in s # True if element x is in list s`\n",
        "- `x not in s # True if element x is not in list s`\n",
        "- `s1 + s2 # concatenate two lists s1 and s2`\n",
        "- `s * n`, `n * s` `# n copies of list s concatenated`\n",
        "- `s[i] # ith element in list s`\n",
        "- `s[i : j] # slice of list from index i to j - 1`\n",
        "- `len(s) # length of list s (number of elements in s)`\n",
        "- `min(s) # smallest element in list s`\n",
        "- `max(s) # largest element in list s`\n",
        "- `sum(s) # sum of all elelemnts in list s`\n",
        "- `for loop # traverse elements from left to right in a for loop`\n",
        "- `<`, `<=`, `>`, `>=`, `==`, `!=` `# compare two lists`"
      ]
    },
    {
      "cell_type": "markdown",
      "id": "1d9d4632",
      "metadata": {
        "id": "1d9d4632"
      },
      "source": [
        "### Index Operator [ ]\n",
        "\n",
        "An element in a list can be assessed through the index operator by using the syntax `s[index]`. List indexes are `0` based. `s[index]` can be used just like a variable so it is also known as an index variable. Python also allows the use of negative numbers as indexes to reference positions relative to the end of the list. For example, `s[-1] = s[-1 + len(s)]`\n",
        "\n",
        "<div>\n",
        "<img src=\"attachment:f1.png\" width=\"600\"/>\n",
        "</div>"
      ]
    },
    {
      "cell_type": "code",
      "execution_count": null,
      "id": "ba5530c8",
      "metadata": {
        "id": "ba5530c8"
      },
      "outputs": [],
      "source": [
        "s2 = [1, 2, 3, [1, 2, ['one', 'two', 'three']]]"
      ]
    },
    {
      "cell_type": "code",
      "execution_count": null,
      "id": "fd793b3b",
      "metadata": {
        "id": "fd793b3b"
      },
      "outputs": [],
      "source": [
        "s2[3][2][2]"
      ]
    },
    {
      "cell_type": "code",
      "execution_count": null,
      "id": "0baab074",
      "metadata": {
        "id": "0baab074"
      },
      "outputs": [],
      "source": [
        "s2[-1][-1][-1]"
      ]
    },
    {
      "cell_type": "markdown",
      "id": "fbb157af",
      "metadata": {
        "id": "fbb157af"
      },
      "source": [
        "### List Slicing [start : end : step]\n",
        "\n",
        "- The index operator allows you to select an element at the specified index\n",
        "- The slicing operator returns a slice of the list using syntax `list[start:end]`\n",
        "- The slice is a sublist from index `start` to index `end - 1`\n",
        "- If `start >= end`, `list[start:end]` returns an empty list\n",
        "- If `end > len(list)`, Python will use the length of the list for `end` instead\n",
        "- The starting index or ending index may be omitted. In that case, the starting index is `0` and the ending index is the list length `len(list)`\n",
        "- The step is optional. If not specified, the default step is 1\n",
        "- **When a negative step is used, Python steps backward through the list**\n",
        "- **In Python list slicing, slices will be copies (shallow copies)**"
      ]
    },
    {
      "cell_type": "code",
      "execution_count": null,
      "id": "f56e4a1a",
      "metadata": {
        "id": "f56e4a1a"
      },
      "outputs": [],
      "source": [
        "s = [1, 2, 3, 4, 5, 6]"
      ]
    },
    {
      "cell_type": "code",
      "execution_count": null,
      "id": "647f9577",
      "metadata": {
        "id": "647f9577"
      },
      "outputs": [],
      "source": [
        "s[1:4:1]"
      ]
    },
    {
      "cell_type": "code",
      "execution_count": null,
      "id": "3c273a25",
      "metadata": {
        "id": "3c273a25"
      },
      "outputs": [],
      "source": [
        "s[:4]"
      ]
    },
    {
      "cell_type": "code",
      "execution_count": null,
      "id": "2590c2c7",
      "metadata": {
        "id": "2590c2c7"
      },
      "outputs": [],
      "source": [
        "s[1:]"
      ]
    },
    {
      "cell_type": "code",
      "execution_count": null,
      "id": "53c42a4d",
      "metadata": {
        "id": "53c42a4d"
      },
      "outputs": [],
      "source": [
        "s[5]"
      ]
    },
    {
      "cell_type": "code",
      "execution_count": null,
      "id": "e2d193cf",
      "metadata": {
        "id": "e2d193cf"
      },
      "outputs": [],
      "source": [
        "s[-1]"
      ]
    },
    {
      "cell_type": "code",
      "execution_count": null,
      "id": "7bce3509",
      "metadata": {
        "id": "7bce3509"
      },
      "outputs": [],
      "source": [
        "s[-2]"
      ]
    },
    {
      "cell_type": "code",
      "execution_count": null,
      "id": "84e09c69",
      "metadata": {
        "id": "84e09c69"
      },
      "outputs": [],
      "source": [
        "s[1::2]"
      ]
    },
    {
      "cell_type": "code",
      "execution_count": null,
      "id": "870ea4de",
      "metadata": {
        "id": "870ea4de"
      },
      "outputs": [],
      "source": [
        "s[:]"
      ]
    },
    {
      "cell_type": "code",
      "execution_count": null,
      "id": "610089c6",
      "metadata": {
        "id": "610089c6"
      },
      "outputs": [],
      "source": [
        "s1 = [1, 2, 3, 4, 5, 6]"
      ]
    },
    {
      "cell_type": "code",
      "execution_count": null,
      "id": "36939ecd",
      "metadata": {
        "id": "36939ecd"
      },
      "outputs": [],
      "source": [
        "s1[1:1]"
      ]
    },
    {
      "cell_type": "code",
      "execution_count": null,
      "id": "e84ab785",
      "metadata": {
        "id": "e84ab785"
      },
      "outputs": [],
      "source": [
        "s1[1:2]"
      ]
    },
    {
      "cell_type": "code",
      "execution_count": null,
      "id": "62865b12",
      "metadata": {
        "id": "62865b12"
      },
      "outputs": [],
      "source": [
        "s1[1]"
      ]
    },
    {
      "cell_type": "code",
      "execution_count": null,
      "id": "152ff4aa",
      "metadata": {
        "id": "152ff4aa"
      },
      "outputs": [],
      "source": [
        "s1[:100]"
      ]
    },
    {
      "cell_type": "code",
      "execution_count": null,
      "id": "fc64b20b",
      "metadata": {
        "id": "fc64b20b"
      },
      "outputs": [],
      "source": [
        "s1_sub = s1[1:3]\n",
        "s1_sub"
      ]
    },
    {
      "cell_type": "code",
      "execution_count": null,
      "id": "153ebb87",
      "metadata": {
        "id": "153ebb87"
      },
      "outputs": [],
      "source": [
        "s1_sub[0] = 99"
      ]
    },
    {
      "cell_type": "code",
      "execution_count": null,
      "id": "93b5c357",
      "metadata": {
        "id": "93b5c357"
      },
      "outputs": [],
      "source": [
        "s1_sub"
      ]
    },
    {
      "cell_type": "code",
      "execution_count": null,
      "id": "ad703438",
      "metadata": {
        "id": "ad703438"
      },
      "outputs": [],
      "source": [
        "s1"
      ]
    },
    {
      "cell_type": "code",
      "execution_count": null,
      "id": "ff73e5af",
      "metadata": {
        "id": "ff73e5af"
      },
      "outputs": [],
      "source": [
        "s2 = [[1, 2, 3], 4, 5, 6]"
      ]
    },
    {
      "cell_type": "code",
      "execution_count": null,
      "id": "526aa191",
      "metadata": {
        "id": "526aa191"
      },
      "outputs": [],
      "source": [
        "s2_sub = s2[:2]\n",
        "s2_sub"
      ]
    },
    {
      "cell_type": "code",
      "execution_count": null,
      "id": "ddcb51d8",
      "metadata": {
        "id": "ddcb51d8"
      },
      "outputs": [],
      "source": [
        "s2_sub[0][0] = 99\n",
        "s2_sub"
      ]
    },
    {
      "cell_type": "code",
      "execution_count": null,
      "id": "88ca6854",
      "metadata": {
        "id": "88ca6854"
      },
      "outputs": [],
      "source": [
        "s2"
      ]
    },
    {
      "cell_type": "markdown",
      "id": "a5412ba9",
      "metadata": {
        "id": "a5412ba9"
      },
      "source": [
        "A clever use of this is to pass `-1` which has the effect of reversing a list"
      ]
    },
    {
      "cell_type": "code",
      "execution_count": null,
      "id": "8921fba4",
      "metadata": {
        "id": "8921fba4"
      },
      "outputs": [],
      "source": [
        "s"
      ]
    },
    {
      "cell_type": "code",
      "execution_count": null,
      "id": "d2ccc538",
      "metadata": {
        "id": "d2ccc538"
      },
      "outputs": [],
      "source": [
        "s[::-1]"
      ]
    },
    {
      "cell_type": "code",
      "execution_count": null,
      "id": "3cd369e5",
      "metadata": {
        "id": "3cd369e5"
      },
      "outputs": [],
      "source": [
        "s[1:4:-1]"
      ]
    },
    {
      "cell_type": "code",
      "execution_count": null,
      "id": "fabee256",
      "metadata": {
        "id": "fabee256"
      },
      "outputs": [],
      "source": [
        "#delete a slice\n",
        "del s[0:3]"
      ]
    },
    {
      "cell_type": "code",
      "execution_count": null,
      "id": "150ff5a2",
      "metadata": {
        "id": "150ff5a2"
      },
      "outputs": [],
      "source": [
        "s"
      ]
    },
    {
      "cell_type": "code",
      "execution_count": null,
      "id": "3a4b1ccb",
      "metadata": {
        "id": "3a4b1ccb"
      },
      "outputs": [],
      "source": [
        "s = [1, 2, 3, 4, 5, 6]"
      ]
    },
    {
      "cell_type": "code",
      "execution_count": null,
      "id": "fc5a7cf6",
      "metadata": {
        "id": "fc5a7cf6"
      },
      "outputs": [],
      "source": [
        "del s[1::2]\n",
        "s"
      ]
    },
    {
      "cell_type": "markdown",
      "id": "eacd7a86",
      "metadata": {
        "id": "eacd7a86"
      },
      "source": [
        "### Difference between Strings and Lists\n",
        "The `[:]` syntax works for both strings and lists. However, there is an important difference\n",
        "- If `s` is a string, `s[:]` returns a reference to the same object\n",
        "- if `s` is a list, `s[:]` returns a new object that is a copy of `s`"
      ]
    },
    {
      "cell_type": "code",
      "execution_count": null,
      "id": "0badb959",
      "metadata": {
        "id": "0badb959"
      },
      "outputs": [],
      "source": [
        "s = 'hello'\n",
        "s[:]"
      ]
    },
    {
      "cell_type": "code",
      "execution_count": null,
      "id": "eaa9289d",
      "metadata": {
        "id": "eaa9289d"
      },
      "outputs": [],
      "source": [
        "s[:] is s"
      ]
    },
    {
      "cell_type": "code",
      "execution_count": null,
      "id": "0dd2f443",
      "metadata": {
        "id": "0dd2f443"
      },
      "outputs": [],
      "source": [
        "s = [1, 2, 3]\n",
        "s[:]"
      ]
    },
    {
      "cell_type": "code",
      "execution_count": null,
      "id": "3724feae",
      "metadata": {
        "id": "3724feae"
      },
      "outputs": [],
      "source": [
        "s[:] is s"
      ]
    },
    {
      "cell_type": "markdown",
      "id": "9baece9c",
      "metadata": {
        "id": "9baece9c"
      },
      "source": [
        "### Modifying Multiple List Values\n",
        "Slice assignment can be used to change several contiguous elements in a list at one time\n",
        "\n",
        "```python\n",
        "a[start:end] = <iterable>\n",
        "```\n",
        "\n",
        "* The number of elements inserted need not be equal to the number replaced. Python just grows or shrinks the list as needed\n",
        "* You can insert multiple elements in place of a single element - just use a slice that denotes only one element\n",
        "* Use `a[start:end] = []` to delete multiple elements out of the middle of a list\n",
        "* You can also insert elements into a list without removing anything. Simply specify a slice of the form `[n:n]` (a zero-length slice) at the desired index"
      ]
    },
    {
      "cell_type": "code",
      "execution_count": null,
      "id": "8923ea4e",
      "metadata": {
        "id": "8923ea4e"
      },
      "outputs": [],
      "source": [
        "s = [1, 2, 3, 4, 5, 6, 7, 8, 9]"
      ]
    },
    {
      "cell_type": "code",
      "execution_count": null,
      "id": "1b2fad90",
      "metadata": {
        "id": "1b2fad90"
      },
      "outputs": [],
      "source": [
        "s[1:5]"
      ]
    },
    {
      "cell_type": "code",
      "execution_count": null,
      "id": "0e08dfba",
      "metadata": {
        "id": "0e08dfba"
      },
      "outputs": [],
      "source": [
        " s[1:5]= [1.1, 2.2, 3.3, 4.4, 5.5, 6.6]\n",
        "s"
      ]
    },
    {
      "cell_type": "code",
      "execution_count": null,
      "id": "ccd68020",
      "metadata": {
        "id": "ccd68020"
      },
      "outputs": [],
      "source": [
        "s[1:2] = [1.1, 1.2, 1.3]\n",
        "s"
      ]
    },
    {
      "cell_type": "markdown",
      "id": "3b177429",
      "metadata": {
        "id": "3b177429"
      },
      "source": [
        "Note that this is not the same as replacing the single element with a list"
      ]
    },
    {
      "cell_type": "code",
      "execution_count": null,
      "id": "0de0dd64",
      "metadata": {
        "id": "0de0dd64"
      },
      "outputs": [],
      "source": [
        "s[1] = [1.1, 1.2, 1.3]\n",
        "s"
      ]
    },
    {
      "cell_type": "code",
      "execution_count": null,
      "id": "29a92e2a",
      "metadata": {
        "id": "29a92e2a"
      },
      "outputs": [],
      "source": [
        "s[1:5] = []\n",
        "s"
      ]
    },
    {
      "cell_type": "code",
      "execution_count": null,
      "id": "845fd0c4",
      "metadata": {
        "id": "845fd0c4"
      },
      "outputs": [],
      "source": [
        "# the item at the index and the remaining list elements are pushed to the right\n",
        "s[1:1] = [33, 44, 55, 66]\n",
        "s"
      ]
    },
    {
      "cell_type": "code",
      "execution_count": null,
      "id": "1dd3aeb0",
      "metadata": {
        "id": "1dd3aeb0"
      },
      "outputs": [],
      "source": [
        "s[1:1]"
      ]
    },
    {
      "cell_type": "markdown",
      "id": "85d35b0b",
      "metadata": {
        "id": "85d35b0b"
      },
      "source": [
        "### The `+`, `*`, `+=`, `*=`, `in` and `not in` Operators"
      ]
    },
    {
      "cell_type": "code",
      "execution_count": null,
      "id": "4838694a",
      "metadata": {
        "id": "4838694a"
      },
      "outputs": [],
      "source": [
        "list1 = [1, 6]\n",
        "list1"
      ]
    },
    {
      "cell_type": "code",
      "execution_count": null,
      "id": "05546f50",
      "metadata": {
        "id": "05546f50"
      },
      "outputs": [],
      "source": [
        "list2 = [2, 9]\n",
        "list2"
      ]
    },
    {
      "cell_type": "code",
      "execution_count": null,
      "id": "fc1a4961",
      "metadata": {
        "id": "fc1a4961"
      },
      "outputs": [],
      "source": [
        "list1 + list2"
      ]
    },
    {
      "cell_type": "code",
      "execution_count": null,
      "id": "2d00efdf",
      "metadata": {
        "id": "2d00efdf"
      },
      "outputs": [],
      "source": [
        "list1 * 3"
      ]
    },
    {
      "cell_type": "code",
      "execution_count": null,
      "id": "e1dcab53",
      "metadata": {
        "id": "e1dcab53"
      },
      "outputs": [],
      "source": [
        "3 * list1"
      ]
    },
    {
      "cell_type": "code",
      "execution_count": null,
      "id": "0a60d721",
      "metadata": {
        "id": "0a60d721"
      },
      "outputs": [],
      "source": [
        "1 in list1"
      ]
    },
    {
      "cell_type": "code",
      "execution_count": null,
      "id": "c32e1c0e",
      "metadata": {
        "id": "c32e1c0e"
      },
      "outputs": [],
      "source": [
        "6 not in list1"
      ]
    },
    {
      "cell_type": "code",
      "execution_count": null,
      "id": "f1f1a545",
      "metadata": {
        "id": "f1f1a545"
      },
      "outputs": [],
      "source": [
        "list1 += list2 # list1 = list1 + list2\n",
        "list1"
      ]
    },
    {
      "cell_type": "markdown",
      "id": "644c07be",
      "metadata": {
        "id": "644c07be"
      },
      "source": [
        "When the left operand of `+=` is a list, the right operand must be an iterable"
      ]
    },
    {
      "cell_type": "code",
      "execution_count": null,
      "id": "1fdd6570",
      "metadata": {
        "id": "1fdd6570"
      },
      "outputs": [],
      "source": [
        "a_list = []\n",
        "for number in range(1, 6):\n",
        "    a_list += [number] # a_list = a_list + [number]\n",
        "a_list"
      ]
    },
    {
      "cell_type": "code",
      "execution_count": null,
      "id": "e5f34d55",
      "metadata": {
        "id": "e5f34d55"
      },
      "outputs": [],
      "source": [
        "a_list = []\n",
        "for number in range(1, 6):\n",
        "    a_list += number\n",
        "a_list"
      ]
    },
    {
      "cell_type": "code",
      "execution_count": null,
      "id": "315ef052",
      "metadata": {
        "id": "315ef052"
      },
      "outputs": [],
      "source": [
        "letters = []\n",
        "letters += 'Python' # string is an iterable\n",
        "letters"
      ]
    },
    {
      "cell_type": "markdown",
      "id": "c0e20296",
      "metadata": {
        "id": "c0e20296"
      },
      "source": [
        "### List Methods\n",
        "\n",
        "<div>\n",
        "<img src=\"attachment:f1.png\" width=\"500\"/>\n",
        "</div>"
      ]
    },
    {
      "cell_type": "code",
      "execution_count": null,
      "id": "3a6a7dc0",
      "metadata": {
        "scrolled": true,
        "id": "3a6a7dc0"
      },
      "outputs": [],
      "source": [
        "s1 = [1, 2, 3, 4, 5, 6]\n",
        "s1"
      ]
    },
    {
      "cell_type": "code",
      "execution_count": null,
      "id": "abbf8b18",
      "metadata": {
        "id": "abbf8b18"
      },
      "outputs": [],
      "source": [
        "# the item at the index and the remaining list elements are pushed to the right\n",
        "s1.insert(1, 99)\n",
        "s1"
      ]
    },
    {
      "cell_type": "code",
      "execution_count": null,
      "id": "11c36eea",
      "metadata": {
        "id": "11c36eea"
      },
      "outputs": [],
      "source": [
        "s1.append(-1)\n",
        "s1"
      ]
    },
    {
      "cell_type": "markdown",
      "id": "4f87726c",
      "metadata": {
        "id": "4f87726c"
      },
      "source": [
        "- When the `+` operator is used to concatenate to a list, if the target operand is an iterable, then its elements are broken out and appended to the list individually\n",
        "- The `append(`) method does not work that way! If an iterable is appended to a list with `append()`, it is added as a single object\n",
        "- `extend()` also adds to the end of a list, but the argument is expected to be an `iterable`. The items in `<iterable>` are added individually\n",
        "- `extend()` behaves like the `+` operator. More precisely, since it modifies the list in place, **it behaves like the `+=` operator**"
      ]
    },
    {
      "cell_type": "code",
      "execution_count": null,
      "id": "26ce9d84",
      "metadata": {
        "id": "26ce9d84"
      },
      "outputs": [],
      "source": [
        "s = ['a', 'b']\n",
        "id(s)"
      ]
    },
    {
      "cell_type": "code",
      "execution_count": null,
      "id": "bfc6e2cc",
      "metadata": {
        "id": "bfc6e2cc"
      },
      "outputs": [],
      "source": [
        "id(s + [1, 2, 3])"
      ]
    },
    {
      "cell_type": "code",
      "execution_count": null,
      "id": "43a93abb",
      "metadata": {
        "id": "43a93abb"
      },
      "outputs": [],
      "source": [
        "s + [1, 2, 3]"
      ]
    },
    {
      "cell_type": "code",
      "execution_count": null,
      "id": "416a85ee",
      "metadata": {
        "id": "416a85ee"
      },
      "outputs": [],
      "source": [
        "s = ['a', 'b']\n",
        "id(s)"
      ]
    },
    {
      "cell_type": "code",
      "execution_count": null,
      "id": "fc0a4355",
      "metadata": {
        "id": "fc0a4355"
      },
      "outputs": [],
      "source": [
        "s += [1, 2, 3] # s = s + [1, 2, 3]\n",
        "id(s)"
      ]
    },
    {
      "cell_type": "code",
      "execution_count": null,
      "id": "b901d409",
      "metadata": {
        "id": "b901d409"
      },
      "outputs": [],
      "source": [
        "s"
      ]
    },
    {
      "cell_type": "code",
      "execution_count": null,
      "id": "07480f7f",
      "metadata": {
        "id": "07480f7f"
      },
      "outputs": [],
      "source": [
        "#appending tuple to list\n",
        "s = ['a', 'b']\n",
        "s += (1, 2, 3)\n",
        "s"
      ]
    },
    {
      "cell_type": "code",
      "execution_count": null,
      "id": "ec766bb9",
      "metadata": {
        "id": "ec766bb9"
      },
      "outputs": [],
      "source": [
        "#appending string to list\n",
        "s = ['a', 'b']\n",
        "s += 'hello'\n",
        "s"
      ]
    },
    {
      "cell_type": "code",
      "execution_count": null,
      "id": "fd6921fe",
      "metadata": {
        "id": "fd6921fe"
      },
      "outputs": [],
      "source": [
        "s = ['a', 'b']"
      ]
    },
    {
      "cell_type": "code",
      "execution_count": null,
      "id": "d9d01ecf",
      "metadata": {
        "id": "d9d01ecf"
      },
      "outputs": [],
      "source": [
        "s.append([1, 2, 3])\n",
        "s"
      ]
    },
    {
      "cell_type": "code",
      "execution_count": null,
      "id": "bc4d949e",
      "metadata": {
        "id": "bc4d949e"
      },
      "outputs": [],
      "source": [
        "s = ['a', 'b']\n",
        "s.extend([1, 2, 3])\n",
        "s"
      ]
    },
    {
      "cell_type": "code",
      "execution_count": null,
      "id": "a4dc4bf7",
      "metadata": {
        "id": "a4dc4bf7"
      },
      "outputs": [],
      "source": [
        "s = ['a', 'b']\n",
        "s.extend('hello')\n",
        "s"
      ]
    },
    {
      "cell_type": "code",
      "execution_count": null,
      "id": "a42d1153",
      "metadata": {
        "id": "a42d1153"
      },
      "outputs": [],
      "source": [
        "s = ['a', 'b']\n",
        "s.append('hello')\n",
        "s"
      ]
    },
    {
      "cell_type": "code",
      "execution_count": null,
      "id": "0937d62f",
      "metadata": {
        "id": "0937d62f"
      },
      "outputs": [],
      "source": [
        "s = ['a', 'b']\n",
        "s.extend(3)\n",
        "s"
      ]
    },
    {
      "cell_type": "code",
      "execution_count": null,
      "id": "d7bca570",
      "metadata": {
        "id": "d7bca570"
      },
      "outputs": [],
      "source": [
        "s1"
      ]
    },
    {
      "cell_type": "code",
      "execution_count": null,
      "id": "0f2cfceb",
      "metadata": {
        "id": "0f2cfceb"
      },
      "outputs": [],
      "source": [
        "s1.sort(reverse=True)\n",
        "s1"
      ]
    },
    {
      "cell_type": "code",
      "execution_count": null,
      "id": "f5760b9c",
      "metadata": {
        "id": "f5760b9c"
      },
      "outputs": [],
      "source": [
        "s1 = [34, 67, 99, -1, 66]\n",
        "s1"
      ]
    },
    {
      "cell_type": "code",
      "execution_count": null,
      "id": "2d6f2dc5",
      "metadata": {
        "id": "2d6f2dc5"
      },
      "outputs": [],
      "source": [
        "s1.reverse()\n",
        "s1"
      ]
    },
    {
      "cell_type": "code",
      "execution_count": null,
      "id": "a63aa83b",
      "metadata": {
        "id": "a63aa83b"
      },
      "outputs": [],
      "source": [
        "s1[::-1]"
      ]
    },
    {
      "cell_type": "code",
      "execution_count": null,
      "id": "08e14597",
      "metadata": {
        "id": "08e14597"
      },
      "outputs": [],
      "source": [
        "str1 = 'hello'\n",
        "str1.reverse()"
      ]
    },
    {
      "cell_type": "code",
      "execution_count": null,
      "id": "e230f127",
      "metadata": {
        "id": "e230f127"
      },
      "outputs": [],
      "source": [
        "str1[::-1]"
      ]
    },
    {
      "cell_type": "code",
      "execution_count": null,
      "id": "69420247",
      "metadata": {
        "id": "69420247"
      },
      "outputs": [],
      "source": [
        "s1 = [1, 3, 5, 6, 3, 8, 9, 10]\n",
        "s1"
      ]
    },
    {
      "cell_type": "code",
      "execution_count": null,
      "id": "ef7d0bc7",
      "metadata": {
        "id": "ef7d0bc7"
      },
      "outputs": [],
      "source": [
        "# a ValueError occurs if the value is not in the list\n",
        "s1.index(-1)"
      ]
    },
    {
      "cell_type": "code",
      "execution_count": null,
      "id": "cc9caba3",
      "metadata": {
        "id": "cc9caba3"
      },
      "outputs": [],
      "source": [
        "#specify the starting index of a search\n",
        "s1.index(3, 2)"
      ]
    },
    {
      "cell_type": "code",
      "execution_count": null,
      "id": "24d49a71",
      "metadata": {
        "id": "24d49a71"
      },
      "outputs": [],
      "source": [
        "list1 = [1, 2, 3, 4, 3, 5, 6]\n",
        "list1"
      ]
    },
    {
      "cell_type": "code",
      "execution_count": null,
      "id": "b7d8c197",
      "metadata": {
        "id": "b7d8c197"
      },
      "outputs": [],
      "source": [
        "list1.remove(3)\n",
        "list1"
      ]
    },
    {
      "cell_type": "code",
      "execution_count": null,
      "id": "dfc70112",
      "metadata": {
        "id": "dfc70112"
      },
      "outputs": [],
      "source": [
        "n = list1.pop(2)\n",
        "n"
      ]
    },
    {
      "cell_type": "code",
      "execution_count": null,
      "id": "5cc32621",
      "metadata": {
        "id": "5cc32621"
      },
      "outputs": [],
      "source": [
        "n = list1.pop()\n",
        "n"
      ]
    },
    {
      "cell_type": "code",
      "execution_count": null,
      "id": "07f280b7",
      "metadata": {
        "id": "07f280b7"
      },
      "outputs": [],
      "source": [
        "list1.clear()\n",
        "list1"
      ]
    },
    {
      "cell_type": "code",
      "execution_count": null,
      "id": "9f94e6ab",
      "metadata": {
        "id": "9f94e6ab"
      },
      "outputs": [],
      "source": [
        "del list1"
      ]
    },
    {
      "cell_type": "code",
      "execution_count": null,
      "id": "ba0e7c6b",
      "metadata": {
        "id": "ba0e7c6b"
      },
      "outputs": [],
      "source": [
        "list1"
      ]
    },
    {
      "cell_type": "markdown",
      "id": "3aabf045",
      "metadata": {
        "id": "3aabf045"
      },
      "source": [
        "### Difference Between `remove()` and `pop()`\n",
        "\n",
        "- `pop()` specifies the index of the item to remove, rather than the object itself in `remove()`\n",
        "- `pop()` returns a value: the item that was removed, `remove()` returns `None`"
      ]
    },
    {
      "cell_type": "markdown",
      "id": "1fd8211a",
      "metadata": {
        "id": "1fd8211a"
      },
      "source": [
        "### Sorting\n",
        "You can sort a list **in place** by calling its `sort()` function. `sort()` has a few options that will occasionally come in handy. One is the ability to pass a secondary sort key - a function that produces a value to use to sort the objects. For example, we can sort a collection of strings by their lengths"
      ]
    },
    {
      "cell_type": "code",
      "execution_count": null,
      "id": "dd622aac",
      "metadata": {
        "id": "dd622aac"
      },
      "outputs": [],
      "source": [
        "b = ['saw', 'small', 'He', 'foxes', 'six']\n",
        "b.sort(key = len)\n",
        "b"
      ]
    },
    {
      "cell_type": "markdown",
      "id": "53963097",
      "metadata": {
        "id": "53963097"
      },
      "source": [
        "### Traversing a List\n",
        "The elements in a Python list are iterable. Python supports a convenient `for` loop, which enables you to traverse the list sequentially without using an index variable"
      ]
    },
    {
      "cell_type": "code",
      "execution_count": null,
      "id": "283ecd97",
      "metadata": {
        "id": "283ecd97"
      },
      "outputs": [],
      "source": [
        "list1 = [1, 2, 3, 4, 5, 6]\n",
        "\n",
        "for i in list1:\n",
        "    i = i * 2\n",
        "    print(i, end = ' ')\n",
        "\n",
        "print()\n",
        "print(list1)"
      ]
    },
    {
      "cell_type": "markdown",
      "id": "486921fd",
      "metadata": {
        "id": "486921fd"
      },
      "source": [
        "When iterating Python lists, arrays and dictionaries, we are working with a **copy** of each element, not the element itself"
      ]
    },
    {
      "cell_type": "code",
      "execution_count": null,
      "id": "198f0382",
      "metadata": {
        "id": "198f0382"
      },
      "outputs": [],
      "source": [
        "# use index to iterate the list\n",
        "\n",
        "for i in range(len(list1)):\n",
        "    list1[i] = list1[i] * 2\n",
        "    print(list1[i], end = ' ')\n",
        "\n",
        "print()\n",
        "print(list1)"
      ]
    },
    {
      "cell_type": "code",
      "execution_count": null,
      "id": "0c362686",
      "metadata": {
        "id": "0c362686"
      },
      "outputs": [],
      "source": [
        "# use while loop to iterate the list\n",
        "\n",
        "i = 0\n",
        "\n",
        "while i < len(list1):\n",
        "    list1[i] = list1[i] * 2\n",
        "    print(list1[i], end = ' ')\n",
        "    i += 1\n",
        "\n",
        "print()\n",
        "print(list1)"
      ]
    },
    {
      "cell_type": "markdown",
      "id": "82791559",
      "metadata": {
        "id": "82791559"
      },
      "source": [
        "## Built-in Sequence Functions\n",
        "### `enumerate()`\n",
        "It's common when iterating over a squence, you want to keep track of the index of the current item. Python has a built-in function `enumerate` which returns a list of `(i, value)` tuples\n",
        "```python\n",
        "for index, value in enumerate(collection):\n",
        "   # do something with value\n",
        "```"
      ]
    },
    {
      "cell_type": "code",
      "execution_count": null,
      "id": "a3b38c61",
      "metadata": {
        "id": "a3b38c61"
      },
      "outputs": [],
      "source": [
        "enumerate(list1)"
      ]
    },
    {
      "cell_type": "code",
      "execution_count": null,
      "id": "0e45c503",
      "metadata": {
        "id": "0e45c503"
      },
      "outputs": [],
      "source": [
        "list(enumerate(list1))"
      ]
    },
    {
      "cell_type": "code",
      "execution_count": null,
      "id": "07a8203f",
      "metadata": {
        "id": "07a8203f"
      },
      "outputs": [],
      "source": [
        "for i, v in enumerate(list1):\n",
        "    print(i, v)"
      ]
    },
    {
      "cell_type": "markdown",
      "id": "6eef8a88",
      "metadata": {
        "id": "6eef8a88"
      },
      "source": [
        "### `sorted()`\n",
        "The `sorted()` function returns a **new** sorted list from the elements of any sequence. The original sequence is unmodified. The `sorted()` function acceptes the same arguments as the `sort()` method on lists."
      ]
    },
    {
      "cell_type": "code",
      "execution_count": null,
      "id": "240cd6ea",
      "metadata": {
        "id": "240cd6ea"
      },
      "outputs": [],
      "source": [
        "list1 = [7, 1, 2, 6, 0, 3, 2]"
      ]
    },
    {
      "cell_type": "code",
      "execution_count": null,
      "id": "33684308",
      "metadata": {
        "scrolled": true,
        "id": "33684308"
      },
      "outputs": [],
      "source": [
        "sorted(list1)"
      ]
    },
    {
      "cell_type": "code",
      "execution_count": null,
      "id": "74777d40",
      "metadata": {
        "id": "74777d40"
      },
      "outputs": [],
      "source": [
        "list1"
      ]
    },
    {
      "cell_type": "code",
      "execution_count": null,
      "id": "0ab1c22b",
      "metadata": {
        "id": "0ab1c22b"
      },
      "outputs": [],
      "source": [
        "sorted('Horse Race1')"
      ]
    },
    {
      "cell_type": "markdown",
      "id": "79d6b69f",
      "metadata": {
        "id": "79d6b69f"
      },
      "source": [
        "### `reversed()`\n",
        "`reversed()` iterates over the elements of a sequence in reverse order. `reversed()` is a generator so that it does not create the reversed sequence until materialized (e.g., with `list` or a `for` loop)"
      ]
    },
    {
      "cell_type": "code",
      "execution_count": null,
      "id": "51da9428",
      "metadata": {
        "scrolled": true,
        "id": "51da9428"
      },
      "outputs": [],
      "source": [
        "reversed(range(10))"
      ]
    },
    {
      "cell_type": "code",
      "execution_count": null,
      "id": "829176a3",
      "metadata": {
        "id": "829176a3"
      },
      "outputs": [],
      "source": [
        "list(reversed(range(10)))"
      ]
    },
    {
      "cell_type": "code",
      "execution_count": null,
      "id": "4ff9628e",
      "metadata": {
        "id": "4ff9628e"
      },
      "outputs": [],
      "source": [
        "list(reversed('hello'))"
      ]
    },
    {
      "cell_type": "markdown",
      "id": "4cc45673",
      "metadata": {
        "id": "4cc45673"
      },
      "source": [
        "### List Comprehension\n",
        "List comprehensions provide a concise way to create items from sequence. A list comprehension consists of brackets containing an expression followed by a `for` clause, then zero or more `for` or `if` clauses. The result will be a list resulting from evaluating the expression.\n",
        "\n",
        "**Syntax**\n",
        "\n",
        "`newlist = [expression for item in iterable if condition == True]`\n",
        "\n",
        "The return value is a new list, leaving the old list unchanged. The condition is like a filter that only accepts the items that evaluate to `True`. The condition is optional and can be omitted. The iterable can be any iterable object, like a list, tuple, set etc."
      ]
    },
    {
      "cell_type": "code",
      "execution_count": null,
      "id": "ebc65e21",
      "metadata": {
        "id": "ebc65e21"
      },
      "outputs": [],
      "source": [
        "list1 = [x for x in range(0, 5)] # Returns a list of 0, 1, 2, 3, 4\n",
        "list1"
      ]
    },
    {
      "cell_type": "code",
      "execution_count": null,
      "id": "237351be",
      "metadata": {
        "id": "237351be"
      },
      "outputs": [],
      "source": [
        "list(range(0, 5))"
      ]
    },
    {
      "cell_type": "code",
      "execution_count": null,
      "id": "b6e75edd",
      "metadata": {
        "id": "b6e75edd"
      },
      "outputs": [],
      "source": [
        "list1 = []\n",
        "for i in range(0, 5):\n",
        "    list1.append(i)\n",
        "\n",
        "list1"
      ]
    },
    {
      "cell_type": "code",
      "execution_count": null,
      "id": "ed3d363b",
      "metadata": {
        "id": "ed3d363b"
      },
      "outputs": [],
      "source": [
        "list1 = [x * 2 for x in range(0, 5) if x < 3] # Returns a list of 0, 2, 4\n",
        "list1"
      ]
    },
    {
      "cell_type": "code",
      "execution_count": null,
      "id": "131f4a0b",
      "metadata": {
        "id": "131f4a0b"
      },
      "outputs": [],
      "source": [
        "list1 / 2"
      ]
    },
    {
      "cell_type": "code",
      "execution_count": null,
      "id": "d58acc33",
      "metadata": {
        "id": "d58acc33"
      },
      "outputs": [],
      "source": [
        "list2 = [0.5 * x for x in list1]\n",
        "list2"
      ]
    },
    {
      "cell_type": "code",
      "execution_count": null,
      "id": "b6aaebc5",
      "metadata": {
        "id": "b6aaebc5"
      },
      "outputs": [],
      "source": [
        "list3 = [x for x in list2 if x < 1.5]\n",
        "list3"
      ]
    },
    {
      "cell_type": "code",
      "execution_count": null,
      "id": "da2945ff",
      "metadata": {
        "id": "da2945ff"
      },
      "outputs": [],
      "source": [
        "s = ['a', 'as', 'bat', 'car', 'dove', 'python']\n",
        "[x.upper() for x in s if len(x) > 2]"
      ]
    },
    {
      "cell_type": "markdown",
      "id": "87e28ad5",
      "metadata": {
        "id": "87e28ad5"
      },
      "source": [
        "### Nested List Comprehension\n",
        "The `for` parts of the list comprehension are arranged according to the order of nesting, and any filter condition is put at the end as before"
      ]
    },
    {
      "cell_type": "code",
      "execution_count": null,
      "id": "cd2800cd",
      "metadata": {
        "id": "cd2800cd"
      },
      "outputs": [],
      "source": [
        "# to get a single list containing all names with two or more e's in them\n",
        "data = [['John', 'Emily', 'Michael', 'Mary', 'Steven'],\n",
        "            ['Maria', 'Juan', 'Javier', 'Natalia', 'Pilar']]\n",
        "\n",
        "# for loop approach\n",
        "names_of_interest = []\n",
        "for names in data:\n",
        "    enough_es = [name for name in names if name.count('e') >= 2]\n",
        "    names_of_interest.extend(enough_es)\n",
        "names_of_interest"
      ]
    },
    {
      "cell_type": "code",
      "execution_count": null,
      "id": "f0e9da9a",
      "metadata": {
        "id": "f0e9da9a"
      },
      "outputs": [],
      "source": [
        "# nested list comprehenion approach\n",
        "result = [name for names in data for name in names if name.count('e') >= 2]\n",
        "result"
      ]
    },
    {
      "cell_type": "code",
      "execution_count": null,
      "id": "6668e595",
      "metadata": {
        "id": "6668e595"
      },
      "outputs": [],
      "source": [
        "# flatten a list of tuples of integers into a simple list of integers\n",
        "some_tuples = [(1, 2, 3), (4, 5, 6), (7, 8, 9)]\n",
        "\n",
        "flattened = []\n",
        "for tup in some_tuples:\n",
        "    for x in tup:\n",
        "        flattened.append(x)\n",
        "flattened"
      ]
    },
    {
      "cell_type": "code",
      "execution_count": null,
      "id": "b2257f83",
      "metadata": {
        "id": "b2257f83"
      },
      "outputs": [],
      "source": [
        "r1 = [x for tup in some_tuples for x in tup]\n",
        "r1"
      ]
    },
    {
      "cell_type": "markdown",
      "id": "45ad5cc5",
      "metadata": {
        "id": "45ad5cc5"
      },
      "source": [
        "It is important to distinguish the syntax just shown from a list comprehension inside a list comprehension. This produces a list of lists, rather than a flattened list of all of the inner elements"
      ]
    },
    {
      "cell_type": "code",
      "execution_count": null,
      "id": "3f4a0485",
      "metadata": {
        "id": "3f4a0485"
      },
      "outputs": [],
      "source": [
        "# a list comprehension inside a list comprehension\n",
        "[[x for x in tup] for tup in some_tuples]"
      ]
    },
    {
      "cell_type": "markdown",
      "id": "5597f20f",
      "metadata": {
        "id": "5597f20f"
      },
      "source": [
        "### Shallow Copies vs Deep Copies\n",
        "- The difference between shallow and deep copying is only relevant for mutable objects (objects that contain other objects, like lists or class instances)\n",
        "- Shallow copy: copy the elements' references but not the objects they point to\n",
        "- Deep copy: actually copy the referenced objects themselves"
      ]
    },
    {
      "cell_type": "code",
      "execution_count": null,
      "id": "747c4c5c",
      "metadata": {
        "id": "747c4c5c"
      },
      "outputs": [],
      "source": [
        "# copy() returns a shallow copy\n",
        "a = [1, 2, 3]\n",
        "b = [11, 22, 33]\n",
        "data = [a, b]\n",
        "data1 = data.copy()"
      ]
    },
    {
      "cell_type": "code",
      "execution_count": null,
      "id": "212e7bfe",
      "metadata": {
        "id": "212e7bfe"
      },
      "outputs": [],
      "source": [
        "a[0] = 99\n",
        "data"
      ]
    },
    {
      "cell_type": "code",
      "execution_count": null,
      "id": "059c6d15",
      "metadata": {
        "id": "059c6d15"
      },
      "outputs": [],
      "source": [
        "data1"
      ]
    },
    {
      "cell_type": "markdown",
      "id": "33ad7aae",
      "metadata": {
        "id": "33ad7aae"
      },
      "source": [
        "```python\n",
        "a = [1, 2, 3]\n",
        "b = [11, 22, 33]\n",
        "data = [a, b]\n",
        "data_mycopy = data\n",
        "```\n",
        "\n",
        "<div>\n",
        "<img src=\"attachment:f1.png\" width=\"300\"/>\n",
        "</div>"
      ]
    },
    {
      "cell_type": "markdown",
      "id": "b86b9859",
      "metadata": {
        "id": "b86b9859"
      },
      "source": [
        "```python\n",
        "import copy\n",
        "data_copy = copy.copy(data)\n",
        "```\n",
        "\n",
        "<div>\n",
        "<img src=\"attachment:f2.png\" width=\"300\"/>\n",
        "</div>"
      ]
    },
    {
      "cell_type": "markdown",
      "id": "658e0c6a",
      "metadata": {
        "id": "658e0c6a"
      },
      "source": [
        "```python\n",
        "data_deepcopy = copy.deepcopy(data)\n",
        "```\n",
        "\n",
        "<div>\n",
        "<img src=\"attachment:f3.png\" width=\"300\"/>\n",
        "</div>"
      ]
    },
    {
      "cell_type": "code",
      "execution_count": null,
      "id": "022a5b28",
      "metadata": {
        "id": "022a5b28"
      },
      "outputs": [],
      "source": [
        "import copy\n",
        "a = [1, 2, 3]\n",
        "b = [11, 22, 33]\n",
        "data = [a, b]\n",
        "data1 = copy.deepcopy(data)"
      ]
    },
    {
      "cell_type": "code",
      "execution_count": null,
      "id": "09b3f88f",
      "metadata": {
        "id": "09b3f88f"
      },
      "outputs": [],
      "source": [
        "a[0] = 99\n",
        "data"
      ]
    },
    {
      "cell_type": "code",
      "execution_count": null,
      "id": "fdee8c2f",
      "metadata": {
        "id": "fdee8c2f"
      },
      "outputs": [],
      "source": [
        "data1"
      ]
    },
    {
      "cell_type": "markdown",
      "id": "0efeb98c",
      "metadata": {
        "id": "0efeb98c"
      },
      "source": [
        "### List Comparison\n",
        "You can compare entire list **element-by-element** using comparison operators. Since lists are ordered, lists that have the same elements in a different order are not the same"
      ]
    },
    {
      "cell_type": "code",
      "execution_count": null,
      "id": "77cf6065",
      "metadata": {
        "id": "77cf6065"
      },
      "outputs": [],
      "source": [
        "a = [1, 2, 3]\n",
        "b = [1, 3, 2]\n",
        "c = [1, 2, 3, 4]\n",
        "d = [1, 2, 6]\n",
        "e = [1, 1, 6]"
      ]
    },
    {
      "cell_type": "code",
      "execution_count": null,
      "id": "859ab492",
      "metadata": {
        "id": "859ab492"
      },
      "outputs": [],
      "source": [
        "a == b"
      ]
    },
    {
      "cell_type": "code",
      "execution_count": null,
      "id": "ed639b34",
      "metadata": {
        "id": "ed639b34"
      },
      "outputs": [],
      "source": [
        "a == c"
      ]
    },
    {
      "cell_type": "code",
      "execution_count": null,
      "id": "15e04b07",
      "metadata": {
        "id": "15e04b07"
      },
      "outputs": [],
      "source": [
        "a < c # a has fewer elements than c"
      ]
    },
    {
      "cell_type": "code",
      "execution_count": null,
      "id": "7ffd03dc",
      "metadata": {
        "id": "7ffd03dc"
      },
      "outputs": [],
      "source": [
        "c >= b"
      ]
    },
    {
      "cell_type": "code",
      "execution_count": null,
      "id": "5349f065",
      "metadata": {
        "id": "5349f065"
      },
      "outputs": [],
      "source": [
        "c < d"
      ]
    },
    {
      "cell_type": "code",
      "execution_count": null,
      "id": "a7e8a22a",
      "metadata": {
        "id": "a7e8a22a"
      },
      "outputs": [],
      "source": [
        "a > e"
      ]
    },
    {
      "cell_type": "code",
      "execution_count": null,
      "id": "393b0fa4",
      "metadata": {
        "id": "393b0fa4"
      },
      "outputs": [],
      "source": [
        "a = ['foo', 'bar', 'baz', 'qux']\n",
        "b = ['baz', 'qux', 'bar', 'foo']\n",
        "a == b"
      ]
    },
    {
      "cell_type": "code",
      "execution_count": null,
      "id": "d004324e",
      "metadata": {
        "id": "d004324e"
      },
      "outputs": [],
      "source": [
        "a is b"
      ]
    },
    {
      "cell_type": "markdown",
      "id": "517fb850",
      "metadata": {
        "id": "517fb850"
      },
      "source": [
        "### Tuples\n",
        "Tuples are like lists except they are immutable. Once they are created, their contents cannot be changed. In other words, you cannot add new elements, delete elements, replace elements or reorder the elements in the tuple. If the contents of a list in your application do not change, you should use a tuple to prevent data from being modified accidentally. Furthermore, tuples are more efficient than lists. **Tuples and lists are semantically similar and can be used interchangeably in many functions**\n",
        "<br>\n",
        "\n",
        "You create a tuple by enclosing its elements inside a pair of ( ). The elements are separated by commas. You can create an empty tuple and create a tuple from a list. Tuples are sequences. The common operations for sequences (those listed in the list section) can be used for tuples.\n",
        "\n",
        "**Tuple items are ordered, unchangeable, and allow duplicate values**\n",
        "\n",
        "Tuple items are indexed, the first item has index `[0]`, the second item has index `[1]` etc.\n"
      ]
    },
    {
      "cell_type": "markdown",
      "id": "65cc0118",
      "metadata": {
        "id": "65cc0118"
      },
      "source": [
        "### `tuple()` Function\n",
        "You can define a tuple with the built-in `tuple()` function\n",
        "\n",
        "```python\n",
        "tuple(<iter>)\n",
        "```\n",
        "\n",
        "The argument `<iter>` is an `iterable` which contains objects to be included in the tuple"
      ]
    },
    {
      "cell_type": "code",
      "execution_count": null,
      "id": "752d7c81",
      "metadata": {
        "id": "752d7c81"
      },
      "outputs": [],
      "source": [
        "# Creating Tuples\n",
        "\n",
        "t1 = () # Create an empty tuple\n",
        "\n",
        "t2 = (1, 3, 5) # Create a tuple with three elements\n",
        "\n",
        "t3 = 1, 3, 5 # Create a tuple with three elements without ()"
      ]
    },
    {
      "cell_type": "code",
      "execution_count": null,
      "id": "5147b40d",
      "metadata": {
        "id": "5147b40d"
      },
      "outputs": [],
      "source": [
        "# Create a tuple from a list\n",
        "t4 = tuple([2 * x for x in range(1, 5)])\n",
        "\n",
        "# Create a tuple from a string\n",
        "t5 = tuple(\"abac\") # t5 is ('a', 'b', 'a', 'c')"
      ]
    },
    {
      "cell_type": "code",
      "execution_count": null,
      "id": "2af26be0",
      "metadata": {
        "id": "2af26be0"
      },
      "outputs": [],
      "source": [
        "t5 = tuple(\"abac\")\n",
        "t5"
      ]
    },
    {
      "cell_type": "code",
      "execution_count": null,
      "id": "3eaeba30",
      "metadata": {
        "id": "3eaeba30"
      },
      "outputs": [],
      "source": [
        "tuple([1, 2, 3])"
      ]
    },
    {
      "cell_type": "code",
      "execution_count": null,
      "id": "876cb2cd",
      "metadata": {
        "id": "876cb2cd"
      },
      "outputs": [],
      "source": [
        "tuple(1, 2, 3)"
      ]
    },
    {
      "cell_type": "code",
      "execution_count": null,
      "id": "fdbea71c",
      "metadata": {
        "id": "fdbea71c"
      },
      "outputs": [],
      "source": [
        "tuple(1)"
      ]
    },
    {
      "cell_type": "code",
      "execution_count": null,
      "id": "150eca9e",
      "metadata": {
        "id": "150eca9e"
      },
      "outputs": [],
      "source": [
        "t4 = tuple([2 * x for x in range(1, 5)])\n",
        "t4"
      ]
    },
    {
      "cell_type": "markdown",
      "id": "be07329d",
      "metadata": {
        "id": "be07329d"
      },
      "source": [
        "Elements can be accessed with square brackets `[]` as with most other sequence types"
      ]
    },
    {
      "cell_type": "code",
      "execution_count": null,
      "id": "0ad08161",
      "metadata": {
        "id": "0ad08161"
      },
      "outputs": [],
      "source": [
        "t4[1]"
      ]
    },
    {
      "cell_type": "markdown",
      "id": "6589f73a",
      "metadata": {
        "id": "6589f73a"
      },
      "source": [
        "### Tuples May Contain Mutable Objects\n",
        "While the objects stored in a tuple may be mutable themselves, once the tuple is created, it is not possible to modify which object is stored in each slot"
      ]
    },
    {
      "cell_type": "code",
      "execution_count": null,
      "id": "9a71e94a",
      "metadata": {
        "id": "9a71e94a"
      },
      "outputs": [],
      "source": [
        "tup = tuple(['foo', [1, 2], True])\n",
        "tup"
      ]
    },
    {
      "cell_type": "code",
      "execution_count": null,
      "id": "bef33824",
      "metadata": {
        "id": "bef33824"
      },
      "outputs": [],
      "source": [
        "tup[0] = 'hi'"
      ]
    },
    {
      "cell_type": "markdown",
      "id": "d95c935a",
      "metadata": {
        "id": "d95c935a"
      },
      "source": [
        "If an object inside a tuple is mutable, such as a list, you can modify it in place"
      ]
    },
    {
      "cell_type": "code",
      "execution_count": null,
      "id": "fd6eb648",
      "metadata": {
        "id": "fd6eb648"
      },
      "outputs": [],
      "source": [
        "tup[1].append(3)"
      ]
    },
    {
      "cell_type": "code",
      "execution_count": null,
      "id": "5f1f9c94",
      "metadata": {
        "id": "5f1f9c94"
      },
      "outputs": [],
      "source": [
        "tup"
      ]
    },
    {
      "cell_type": "code",
      "execution_count": null,
      "id": "ac5a4a2b",
      "metadata": {
        "id": "ac5a4a2b"
      },
      "outputs": [],
      "source": [
        "tup[1] = [1, 2, 3, 5]"
      ]
    },
    {
      "cell_type": "code",
      "execution_count": null,
      "id": "c8a5d3da",
      "metadata": {
        "id": "c8a5d3da"
      },
      "outputs": [],
      "source": [
        "tup"
      ]
    },
    {
      "cell_type": "markdown",
      "id": "814ed2f8",
      "metadata": {
        "id": "814ed2f8"
      },
      "source": [
        "When creating a tuple with only one item, remember to include a comma after the item, otherwise it will not be identified as a tuple."
      ]
    },
    {
      "cell_type": "code",
      "execution_count": null,
      "id": "ffbb2efe",
      "metadata": {
        "id": "ffbb2efe"
      },
      "outputs": [],
      "source": [
        "# Wrong way to define a tuple with one element\n",
        "t6 = ('Apple')\n",
        "type(t6)"
      ]
    },
    {
      "cell_type": "code",
      "execution_count": null,
      "id": "142c8a90",
      "metadata": {
        "id": "142c8a90"
      },
      "outputs": [],
      "source": [
        "t6 = ('Apple', )"
      ]
    },
    {
      "cell_type": "code",
      "execution_count": null,
      "id": "5db6085e",
      "metadata": {
        "id": "5db6085e"
      },
      "outputs": [],
      "source": [
        "type(t6)"
      ]
    },
    {
      "cell_type": "markdown",
      "id": "39dc64e8",
      "metadata": {
        "id": "39dc64e8"
      },
      "source": [
        "The `del` keyword can delete the tuple completely"
      ]
    },
    {
      "cell_type": "code",
      "execution_count": null,
      "id": "4a60f506",
      "metadata": {
        "id": "4a60f506"
      },
      "outputs": [],
      "source": [
        "del t6[0]"
      ]
    },
    {
      "cell_type": "code",
      "execution_count": null,
      "id": "175818eb",
      "metadata": {
        "id": "175818eb"
      },
      "outputs": [],
      "source": [
        "del t6"
      ]
    },
    {
      "cell_type": "code",
      "execution_count": null,
      "id": "73cbd6ac",
      "metadata": {
        "id": "73cbd6ac"
      },
      "outputs": [],
      "source": [
        "print(t6)"
      ]
    },
    {
      "cell_type": "markdown",
      "id": "681eb994",
      "metadata": {
        "id": "681eb994"
      },
      "source": [
        "### `+`, `+=`, `*`  and `*=` Operators\n",
        "As with lists, you can concatenate tuples using the `+` or `+=` operator to produce longer tuples. **For a string or tuple, the item to the right of `+=` must be a string or tuple, respectively - mixed types causes a `TypeError`**. Multiplying a tuple by an integer, as with lists, has the effect of concatenating together that many copies of the tuple"
      ]
    },
    {
      "cell_type": "code",
      "execution_count": null,
      "id": "2f363049",
      "metadata": {
        "id": "2f363049"
      },
      "outputs": [],
      "source": [
        "(3, None, 'foo') + (6, 0) + ('bar',)"
      ]
    },
    {
      "cell_type": "code",
      "execution_count": null,
      "id": "2a8f52de",
      "metadata": {
        "id": "2a8f52de"
      },
      "outputs": [],
      "source": [
        "('foo', 'bar') * 3"
      ]
    },
    {
      "cell_type": "code",
      "execution_count": null,
      "id": "51a3ff96",
      "metadata": {
        "id": "51a3ff96"
      },
      "outputs": [],
      "source": [
        "tuple1 = (10, 20, 30)\n",
        "tuple2 = (40, 50)"
      ]
    },
    {
      "cell_type": "code",
      "execution_count": null,
      "id": "dc98cceb",
      "metadata": {
        "id": "dc98cceb"
      },
      "outputs": [],
      "source": [
        "tuple1 += tuple2 # tuple1 = tuple1 + tuple2\n",
        "tuple1"
      ]
    },
    {
      "cell_type": "code",
      "execution_count": null,
      "id": "57c0c0ba",
      "metadata": {
        "id": "57c0c0ba"
      },
      "outputs": [],
      "source": [
        "tuple2"
      ]
    },
    {
      "cell_type": "code",
      "execution_count": null,
      "id": "91f9bfdb",
      "metadata": {
        "id": "91f9bfdb"
      },
      "outputs": [],
      "source": [
        "tuple1 += [1, 2, 3]\n",
        "tuple1"
      ]
    },
    {
      "cell_type": "code",
      "execution_count": null,
      "id": "c4397633",
      "metadata": {
        "id": "c4397633"
      },
      "outputs": [],
      "source": [
        "#appending tuple to list\n",
        "numbers = [1, 2, 3, 4, 5]"
      ]
    },
    {
      "cell_type": "code",
      "execution_count": null,
      "id": "f2546493",
      "metadata": {
        "id": "f2546493"
      },
      "outputs": [],
      "source": [
        "numbers += (6, 7)\n",
        "numbers"
      ]
    },
    {
      "cell_type": "code",
      "execution_count": null,
      "id": "9d63682a",
      "metadata": {
        "id": "9d63682a"
      },
      "outputs": [],
      "source": [
        "numbers += 'hello'\n",
        "numbers"
      ]
    },
    {
      "cell_type": "code",
      "execution_count": null,
      "id": "73f55ed8",
      "metadata": {
        "id": "73f55ed8"
      },
      "outputs": [],
      "source": [
        "tuple2 *= 3 # tuple2 = tuple2 * 3\n",
        "tuple2"
      ]
    },
    {
      "cell_type": "markdown",
      "id": "af3a4783",
      "metadata": {
        "id": "af3a4783"
      },
      "source": [
        "### `in` and `not in` Operators\n",
        "To check whether a tuple contains a value, use `in` or `not in` operator"
      ]
    },
    {
      "cell_type": "code",
      "execution_count": null,
      "id": "6d9920c8",
      "metadata": {
        "id": "6d9920c8"
      },
      "outputs": [],
      "source": [
        "fruits = ('apple', 'banana', 'cherry', 'strawberry', 'raspberry')"
      ]
    },
    {
      "cell_type": "code",
      "execution_count": null,
      "id": "6a023a6a",
      "metadata": {
        "id": "6a023a6a"
      },
      "outputs": [],
      "source": [
        "'apple' in fruits"
      ]
    },
    {
      "cell_type": "code",
      "execution_count": null,
      "id": "82ad10a2",
      "metadata": {
        "id": "82ad10a2"
      },
      "outputs": [],
      "source": [
        "'kiwi' not in fruits"
      ]
    },
    {
      "cell_type": "markdown",
      "id": "12c1cfaa",
      "metadata": {
        "id": "12c1cfaa"
      },
      "source": [
        "### Tuple Unpacking\n",
        "When we create a tuple, we normally assign values to it. This is called \"packing\" a tuple. In Python, we are also allowed to extract the values back into variables. This is called tuple unpacking\n",
        "\n",
        "- `()` on the left side of the equal sign is optional\n",
        "- the number of variables must match the number of values in the tuple\n",
        "- if not, you must use an asterisk to collect the remaining values as a list"
      ]
    },
    {
      "cell_type": "code",
      "execution_count": null,
      "id": "7fd15489",
      "metadata": {
        "id": "7fd15489"
      },
      "outputs": [],
      "source": [
        "fruits = ('apple', 'banana', 'cherry')"
      ]
    },
    {
      "cell_type": "code",
      "execution_count": null,
      "id": "906e0c1a",
      "metadata": {
        "id": "906e0c1a"
      },
      "outputs": [],
      "source": [
        "n1, n2, n3 = fruits\n",
        "\n",
        "print(n1)\n",
        "print(n2)\n",
        "print(n3)"
      ]
    },
    {
      "cell_type": "code",
      "execution_count": null,
      "id": "c9cb8418",
      "metadata": {
        "id": "c9cb8418"
      },
      "outputs": [],
      "source": [
        "x = 1\n",
        "y = 2"
      ]
    },
    {
      "cell_type": "code",
      "execution_count": null,
      "id": "ae886329",
      "metadata": {
        "id": "ae886329"
      },
      "outputs": [],
      "source": [
        "x, y = y, x"
      ]
    },
    {
      "cell_type": "markdown",
      "id": "de49663a",
      "metadata": {
        "id": "de49663a"
      },
      "source": [
        "If the number of variables is less than the number of values, you can add an * to the variable name and the values will be assigned to the variable as a list"
      ]
    },
    {
      "cell_type": "code",
      "execution_count": null,
      "id": "f2331bdf",
      "metadata": {
        "scrolled": true,
        "id": "f2331bdf"
      },
      "outputs": [],
      "source": [
        "fruits = ('apple', 'banana', 'cherry', 'strawberry', 'raspberry')\n",
        "\n",
        "n1, n2, *n3 = fruits\n",
        "\n",
        "print(n1)\n",
        "print(n2)\n",
        "print(n3)"
      ]
    },
    {
      "cell_type": "markdown",
      "id": "41d82074",
      "metadata": {
        "id": "41d82074"
      },
      "source": [
        "If the asterisk is added to another variable name than the last, Python will assign values to the variable until the number of values left matches the number of variables left"
      ]
    },
    {
      "cell_type": "code",
      "execution_count": null,
      "id": "7eda8284",
      "metadata": {
        "id": "7eda8284"
      },
      "outputs": [],
      "source": [
        "(n1, *n2, n3) = fruits\n",
        "\n",
        "print(n1)\n",
        "print(n2)\n",
        "print(n3)"
      ]
    },
    {
      "cell_type": "markdown",
      "id": "0d0dd711",
      "metadata": {
        "id": "0d0dd711"
      },
      "source": [
        "Even sequences with nested tuples can be unpacked"
      ]
    },
    {
      "cell_type": "code",
      "execution_count": null,
      "id": "6b55c01c",
      "metadata": {
        "id": "6b55c01c"
      },
      "outputs": [],
      "source": [
        "tup = (1, 2, (3, 6))\n",
        "a, b, c = tup\n",
        "c"
      ]
    },
    {
      "cell_type": "markdown",
      "id": "cb8acc1a",
      "metadata": {
        "id": "cb8acc1a"
      },
      "source": [
        "A common use of tuple (variable) unpacking is iterating over sequences of tuples or lists"
      ]
    },
    {
      "cell_type": "code",
      "execution_count": null,
      "id": "66244865",
      "metadata": {
        "id": "66244865"
      },
      "outputs": [],
      "source": [
        "seq = [(1, 2, 3), (4, 5, 6), (7, 8, 9)]\n",
        "for a, b, c in seq:\n",
        "    print('a = {0}, b = {1}, c = {2}'.format(a, b, c))"
      ]
    },
    {
      "cell_type": "markdown",
      "id": "3974deee",
      "metadata": {
        "id": "3974deee"
      },
      "source": [
        "### Sequence Unpacking\n",
        "Similar as tuple unpacking, you can unpack any sequence's elements by assigning the sequence to a comma-separated list of variables"
      ]
    },
    {
      "cell_type": "code",
      "execution_count": null,
      "id": "849fa48e",
      "metadata": {
        "id": "849fa48e"
      },
      "outputs": [],
      "source": [
        "fruits = ['apple', 'banana', 'cherry', 'strawberry', 'raspberry']\n",
        "\n",
        "n1, n2, *n3 = fruits\n",
        "\n",
        "print(n1)\n",
        "print(n2)\n",
        "print(n3)"
      ]
    },
    {
      "cell_type": "code",
      "execution_count": null,
      "id": "6ca4b21f",
      "metadata": {
        "id": "6ca4b21f"
      },
      "outputs": [],
      "source": [
        "#unpacking a string\n",
        "s1, s2 = 'hi'"
      ]
    },
    {
      "cell_type": "code",
      "execution_count": null,
      "id": "ad6b3b9b",
      "metadata": {
        "id": "ad6b3b9b"
      },
      "outputs": [],
      "source": [
        "s1"
      ]
    },
    {
      "cell_type": "code",
      "execution_count": null,
      "id": "74eeb91c",
      "metadata": {
        "id": "74eeb91c"
      },
      "outputs": [],
      "source": [
        "s2"
      ]
    },
    {
      "cell_type": "code",
      "execution_count": null,
      "id": "22396697",
      "metadata": {
        "id": "22396697"
      },
      "outputs": [],
      "source": [
        "#unpacking a sequence produced by range\n",
        "n1, n2, n3 = range(10, 40, 10)"
      ]
    },
    {
      "cell_type": "code",
      "execution_count": null,
      "id": "dc5a18e0",
      "metadata": {
        "id": "dc5a18e0"
      },
      "outputs": [],
      "source": [
        "n1"
      ]
    },
    {
      "cell_type": "code",
      "execution_count": null,
      "id": "acd6f4dc",
      "metadata": {
        "id": "acd6f4dc"
      },
      "outputs": [],
      "source": [
        "n2"
      ]
    },
    {
      "cell_type": "code",
      "execution_count": null,
      "id": "b98ecfd7",
      "metadata": {
        "id": "b98ecfd7"
      },
      "outputs": [],
      "source": [
        "n3"
      ]
    },
    {
      "cell_type": "markdown",
      "id": "a4222caa",
      "metadata": {
        "id": "a4222caa"
      },
      "source": [
        "### Tuple Methods\n",
        "Python has two built-in methods that you can use on tuples\n",
        "\n",
        "- `count()`: Returns the number of times a specified value occurs in a tuple\n",
        "- `index()`: Searches the tuple for a specified value and returns the position of where it was found"
      ]
    },
    {
      "cell_type": "code",
      "execution_count": null,
      "id": "794cabab",
      "metadata": {
        "id": "794cabab"
      },
      "outputs": [],
      "source": [
        "a = (1, 2, 2, 2, 3, 2)\n",
        "a.count(2)"
      ]
    },
    {
      "cell_type": "code",
      "execution_count": null,
      "id": "67f2080f",
      "metadata": {
        "id": "67f2080f"
      },
      "outputs": [],
      "source": [
        "a.index(2)"
      ]
    },
    {
      "cell_type": "markdown",
      "id": "a65059da",
      "metadata": {
        "id": "a65059da"
      },
      "source": [
        "### Sets\n",
        "Sets are like lists to store a collection of items. Unlike lists, the elements in a set are unique and are not placed in any particular order. If your application does not care about the order of the elements, using a set to store elements is more efficient than using lists. The syntax for sets is braces { }. A set can be created in two ways: via the `set()` function or via a set literal with curly braces. **The elements in a set can be objects of different types**\n",
        "\n",
        "**Set is a collection which is unordered and unindexed. No duplicate members**\n"
      ]
    },
    {
      "cell_type": "markdown",
      "id": "25dbff97",
      "metadata": {
        "id": "25dbff97"
      },
      "source": [
        "### Construct a Set\n",
        "You can define a set with the built-in `set()` function or with curly braces (`{}`)\n",
        "\n",
        "```python\n",
        "set(<iter>)\n",
        "{<obj>, <obj>, ..., <obj>}\n",
        "```\n",
        "\n",
        "- The argument to `set()` is an iterable. It generates a list of elements to be placed into the set.\n",
        "- The objects in curly braces are placed into the set intact (each `<obj>` becomes a distinct element of the set), even if they are iterable"
      ]
    },
    {
      "cell_type": "code",
      "execution_count": null,
      "id": "660c34c1",
      "metadata": {
        "id": "660c34c1"
      },
      "outputs": [],
      "source": [
        "# Creating Sets\n",
        "\n",
        "s1 = set() # Create an empty set\n",
        "\n",
        "s2 = {1, 3, 5} # Create a set with three elements\n",
        "\n",
        "s3 = set((1, 3, 5)) # Create a set from a tuple\n",
        "\n",
        "# Create a set from a list\n",
        "s4 = set([x * 2 for x in range(1, 10)])\n",
        "\n",
        "# Create a set from a string\n",
        "s5 = set(\"abac\") # s5 is {'a', 'b', 'c'}"
      ]
    },
    {
      "cell_type": "code",
      "execution_count": null,
      "id": "21ea4e52",
      "metadata": {
        "id": "21ea4e52"
      },
      "outputs": [],
      "source": [
        "s5"
      ]
    },
    {
      "cell_type": "code",
      "execution_count": null,
      "id": "ab34b19b",
      "metadata": {
        "id": "ab34b19b"
      },
      "outputs": [],
      "source": [
        "set(1, 2, 3)"
      ]
    },
    {
      "cell_type": "code",
      "execution_count": null,
      "id": "b3c91450",
      "metadata": {
        "id": "b3c91450"
      },
      "outputs": [],
      "source": [
        "set(1)"
      ]
    },
    {
      "cell_type": "code",
      "execution_count": null,
      "id": "4582ad0f",
      "metadata": {
        "id": "4582ad0f"
      },
      "outputs": [],
      "source": [
        "# the following is not allowed to creat an empty set\n",
        "s  = {}\n",
        "type(s)"
      ]
    },
    {
      "cell_type": "markdown",
      "id": "356c9917",
      "metadata": {
        "id": "356c9917"
      },
      "source": [
        "A set can contain the elements of the same type or mixed types"
      ]
    },
    {
      "cell_type": "code",
      "execution_count": null,
      "id": "17708638",
      "metadata": {
        "id": "17708638"
      },
      "outputs": [],
      "source": [
        "s = {1, 2, 3, 'one', 'two', 'three'}\n",
        "s"
      ]
    },
    {
      "cell_type": "markdown",
      "id": "268d4f55",
      "metadata": {
        "id": "268d4f55"
      },
      "source": [
        "### Hashable\n",
        "- Each elelmet in a set must be hashable\n",
        "- Each object in Python has a hash value and **an object is hashable if its hash value never changes during its lifetime**\n",
        "- All immutable objects are hashable, but not all hashable objects are immutable\n",
        "- Objects created from user defined classes are hashable by default\n",
        "- Lists, sets and dictionaries are not hashable\n",
        "- You cannot add a list element, a set element or a dictionary element to a set"
      ]
    },
    {
      "cell_type": "code",
      "execution_count": null,
      "id": "fd7e68e0",
      "metadata": {
        "id": "fd7e68e0"
      },
      "outputs": [],
      "source": [
        "hash(6)"
      ]
    },
    {
      "cell_type": "code",
      "execution_count": null,
      "id": "a88b8dd2",
      "metadata": {
        "id": "a88b8dd2"
      },
      "outputs": [],
      "source": [
        "hash('hello')"
      ]
    },
    {
      "cell_type": "code",
      "execution_count": null,
      "id": "d58e7b1e",
      "metadata": {
        "id": "d58e7b1e"
      },
      "outputs": [],
      "source": [
        "hash([1, 2, 3])"
      ]
    },
    {
      "cell_type": "code",
      "execution_count": null,
      "id": "c11a3c60",
      "metadata": {
        "id": "c11a3c60"
      },
      "outputs": [],
      "source": [
        "hash({1, 2, 3})"
      ]
    },
    {
      "cell_type": "code",
      "execution_count": null,
      "id": "fc4e5f04",
      "metadata": {
        "id": "fc4e5f04"
      },
      "outputs": [],
      "source": [
        "hash((1, 2, (2, 3)))"
      ]
    },
    {
      "cell_type": "code",
      "execution_count": null,
      "id": "57e25812",
      "metadata": {
        "id": "57e25812"
      },
      "outputs": [],
      "source": [
        "hash((1, 2, [2, 3]))"
      ]
    },
    {
      "cell_type": "code",
      "execution_count": null,
      "id": "5232dd32",
      "metadata": {
        "id": "5232dd32"
      },
      "outputs": [],
      "source": [
        "s = {1, 2, 3, [11, 22, 33]}"
      ]
    },
    {
      "cell_type": "code",
      "execution_count": null,
      "id": "3e8225a6",
      "metadata": {
        "id": "3e8225a6"
      },
      "outputs": [],
      "source": [
        "s = {1, 2, 3, {1, 2, 3}}"
      ]
    },
    {
      "cell_type": "markdown",
      "id": "126f55b4",
      "metadata": {
        "id": "126f55b4"
      },
      "source": [
        "### `+` and `*` Operators"
      ]
    },
    {
      "cell_type": "code",
      "execution_count": null,
      "id": "add4c7ec",
      "metadata": {
        "id": "add4c7ec"
      },
      "outputs": [],
      "source": [
        "s = {1, 2, 3}"
      ]
    },
    {
      "cell_type": "code",
      "execution_count": null,
      "id": "744e9e5e",
      "metadata": {
        "id": "744e9e5e"
      },
      "outputs": [],
      "source": [
        "s * 3"
      ]
    },
    {
      "cell_type": "code",
      "execution_count": null,
      "id": "9e47ef54",
      "metadata": {
        "id": "9e47ef54"
      },
      "outputs": [],
      "source": [
        "s + s"
      ]
    },
    {
      "cell_type": "markdown",
      "id": "4f23f534",
      "metadata": {
        "id": "4f23f534"
      },
      "source": [
        "#### Python Set Operations\n",
        "- `s.add(x)`: add element `x` to the set `s`\n",
        "- `s.clear()`: reset the set `s` to an empty state, discarding all of its elements\n",
        "- `s.remove(x)`: remove element `x` from the set `s`. A `KeyError` occurs if `x` is not in the set\n",
        "- `s.discard(x)`: remove element `x` from the set `s`. Does not cause an exception if `x` is not in the set\n",
        "- `s.pop()`: remove an arbitray set element and return it. A `KeyError` occurs if the set is empty when you call `pop()`"
      ]
    },
    {
      "cell_type": "code",
      "execution_count": null,
      "id": "3c8baf30",
      "metadata": {
        "id": "3c8baf30"
      },
      "outputs": [],
      "source": [
        "# Manipulating and Accessing Sets\n",
        "\n",
        "s3.add(6)\n",
        "\n",
        "len(s3)\n",
        "\n",
        "min(s3)\n",
        "\n",
        "max(s3)\n",
        "\n",
        "sum(s3)\n",
        "\n",
        "3 in s3\n",
        "\n",
        "s3.remove(5)\n",
        "\n",
        "s3.discard(5)"
      ]
    },
    {
      "cell_type": "code",
      "execution_count": null,
      "id": "da820dd5",
      "metadata": {
        "id": "da820dd5"
      },
      "outputs": [],
      "source": [
        "s3 = set((1, 3, 5))\n",
        "s3.add(6)\n",
        "s3"
      ]
    },
    {
      "cell_type": "code",
      "execution_count": null,
      "id": "28180e2f",
      "metadata": {
        "id": "28180e2f"
      },
      "outputs": [],
      "source": [
        "len(s3)"
      ]
    },
    {
      "cell_type": "code",
      "execution_count": null,
      "id": "e8ba0f52",
      "metadata": {
        "id": "e8ba0f52"
      },
      "outputs": [],
      "source": [
        "3 in s3"
      ]
    },
    {
      "cell_type": "code",
      "execution_count": null,
      "id": "b49de189",
      "metadata": {
        "id": "b49de189"
      },
      "outputs": [],
      "source": [
        "s3.pop()"
      ]
    },
    {
      "cell_type": "markdown",
      "id": "deab625c",
      "metadata": {
        "id": "deab625c"
      },
      "source": [
        "Sets are equal if and only if their contents are equal"
      ]
    },
    {
      "cell_type": "code",
      "execution_count": null,
      "id": "e5cf2628",
      "metadata": {
        "id": "e5cf2628"
      },
      "outputs": [],
      "source": [
        "{1, 2, 3} == {3, 2, 1}"
      ]
    },
    {
      "cell_type": "code",
      "execution_count": null,
      "id": "6d6be4c1",
      "metadata": {
        "id": "6d6be4c1"
      },
      "outputs": [],
      "source": [
        "{1, 1, 1, 2, 3, 4, 5, 6, 6, 6}"
      ]
    },
    {
      "cell_type": "code",
      "execution_count": null,
      "id": "61432585",
      "metadata": {
        "id": "61432585"
      },
      "outputs": [],
      "source": [
        "# find unique values\n",
        "set([1, 1, 1, 2, 3, 4, 5, 6, 6, 6])"
      ]
    },
    {
      "cell_type": "code",
      "execution_count": null,
      "id": "28acf9c8",
      "metadata": {
        "id": "28acf9c8"
      },
      "outputs": [],
      "source": [
        "# find unique character in a string\n",
        "s1 = 'aabcdeffg'\n",
        "len(set(s1))"
      ]
    },
    {
      "cell_type": "markdown",
      "id": "312a3c2b",
      "metadata": {
        "id": "312a3c2b"
      },
      "source": [
        "#### Set Logical Operations\n",
        "Python provides the methods for performing set union, intersection, difference and symmetric difference operations\n",
        "\n",
        "- `union`: the union of two sets is a set that contains all the elements from both sets. You can use the `union` method or the `|` operator to perform this operation\n",
        "- `intersection`: the intersection of two sets is a set that contains the elements that appear in both sets. You can use the `intersection` method or the `&` operator to perform this operation\n",
        "- `difference`: the difference of two sets is a set that contains the elements in set1 but not in set2. You can use the `difference` method or the `-` operator to perform this operation\n",
        "- `symmetric difference`: the symmetric difference (or exclusive or) of two sets is a set that contains the elements in either set, bot not in both sets. You can use the `symmetric_difference` method or the `^` operator to perform this operation"
      ]
    },
    {
      "cell_type": "code",
      "execution_count": null,
      "id": "4ab38ff0",
      "metadata": {
        "id": "4ab38ff0"
      },
      "outputs": [],
      "source": [
        "s1 = {1, 2, 4}\n",
        "s2 = {1, 3, 5}\n",
        "s1 | s2"
      ]
    },
    {
      "cell_type": "code",
      "execution_count": null,
      "id": "7440cffb",
      "metadata": {
        "id": "7440cffb"
      },
      "outputs": [],
      "source": [
        "s1 = {1, 2, 4}\n",
        "s2 = {1, 3, 5}\n",
        "s1 & s2"
      ]
    },
    {
      "cell_type": "code",
      "execution_count": null,
      "id": "5a0925eb",
      "metadata": {
        "id": "5a0925eb"
      },
      "outputs": [],
      "source": [
        "s1 = {1, 2, 4}\n",
        "s2 = {1, 3, 5}\n",
        "s1 - s2"
      ]
    },
    {
      "cell_type": "code",
      "execution_count": null,
      "id": "2340e686",
      "metadata": {
        "id": "2340e686"
      },
      "outputs": [],
      "source": [
        "s1 = {1, 2, 4}\n",
        "s2 = {1, 3, 5}\n",
        "s1 ^ s2"
      ]
    },
    {
      "cell_type": "markdown",
      "id": "674b7596",
      "metadata": {
        "id": "674b7596"
      },
      "source": [
        "#### Set Comprehension\n",
        "A set comprehension looks like the equivalent list comprehension except with curly braces instead of square brackets\n",
        "\n",
        "**Syntax**\n",
        "\n",
        "`newset = {expression for item in iterable if condition == True}`\n",
        "\n",
        "For example, if we wanted a set containing just the lengths of the strings contained in a list, we could easily compute this using a set comprehension"
      ]
    },
    {
      "cell_type": "code",
      "execution_count": null,
      "id": "295fc9d8",
      "metadata": {
        "id": "295fc9d8"
      },
      "outputs": [],
      "source": [
        "s = ['a', 'as', 'bat', 'car', 'dove', 'python']\n",
        "unique_lengths = {len(x) for x in s}\n",
        "unique_lengths"
      ]
    },
    {
      "cell_type": "markdown",
      "id": "76fda10b",
      "metadata": {
        "id": "76fda10b"
      },
      "source": [
        "### Dictionary\n",
        "A dictionary is a collection that stores the elements along with the keys. The keys are like an indexer. It enables fast retrieval, deletion and updating of the value by using the key. **A dictionary is a collection which is ordered** (As of Python version 3.7, dictionaries are ordered. In Python 3.6 and earlier, dictionaries are unordered), **changeable and does not allow duplicates**. Dictionaries cannot have two items with the same key\n",
        "\n",
        "**Dictionary order is guaranteed to be insertion order. Dictionaries preserve insertion order**. Note that updating a key does not affect the order. Keys added after deletion are inserted at the end\n",
        "\n",
        "Although access to items in a dictionary does not depend on order, Python does guarantee that the order of items in a dictionary is preserved. When displayed, items will appear in the order they were defined, and iteration through the keys will occur in that order as well. Items added to a dictionary are added at the end. If items are deleted, the order of the remaining items is retained"
      ]
    },
    {
      "cell_type": "markdown",
      "id": "2b449b73",
      "metadata": {
        "id": "2b449b73"
      },
      "source": [
        "You can create a dictionary by enclosing the items inside a pair of curly brace(`{ }`). Each item consists of a key, followed by a colon, followed by a value. The items are separated by commas. A dictionary cannot contain duplicate keys. The key must be of a hashable type such as `int`, `float`, `str` or `tuple`. The value can be of any type. The Python class for dictionaries is `dict`\n",
        "\n",
        "- To add an item to a dictionary, use the syntax `dictionaryName[key] = value`. If the key is already in the dictionary, the preceding statement replaces the value for the key.\n",
        "- To retrieve a value, simply write an expression using `dictionaryName[key]`\n",
        "- To delete an item from a dictionary, use the syntax `del dictionaryName[key]`\n",
        "- To delete the whole dictionary, use syntax `del dictionaryName`\n",
        "- to find the number of items in a dictionary, use `len(dictionaryName)`\n",
        "- to check if a dict contains a key, use `key` in `dictionaryName`\n",
        "- to retrieve all the keys contained in a dictionary, use `dictionaryName.keys()`\n",
        "- to retrieve all the values contained in a dictionary, use `dictionaryName.values()`\n",
        "- to retrieve all the items (key value pairs) contained in a dictionary, use `dictionaryName.items()`"
      ]
    },
    {
      "cell_type": "code",
      "execution_count": null,
      "id": "07f4a565",
      "metadata": {
        "id": "07f4a565"
      },
      "outputs": [],
      "source": [
        "### Creating Dictionaries\n",
        "\n",
        "students = {} # Create an empty dictionary\n",
        "students = {\"111-11-1111\":'John', \"222-22-2222\":'Frank'} # Create a dictionary"
      ]
    },
    {
      "cell_type": "markdown",
      "id": "a49e544f",
      "metadata": {
        "id": "a49e544f"
      },
      "source": [
        "The built-in function `len` returns the number of key-value pairs in a dictionary"
      ]
    },
    {
      "cell_type": "code",
      "execution_count": null,
      "id": "a0e74c3e",
      "metadata": {
        "id": "a0e74c3e"
      },
      "outputs": [],
      "source": [
        "len(students)"
      ]
    },
    {
      "cell_type": "markdown",
      "id": "dad29a2c",
      "metadata": {
        "id": "dad29a2c"
      },
      "source": [
        "It is common to end up with two sequences that you want to pair up elemnet-wise in a dict. Since dict is essentially a collection of 2-tuples, the `dict()` function accepts a list of 2-tuples\n",
        "```python\n",
        "dict(iterable) # new dictionary initialized as if via:\n",
        "    d = {}\n",
        "    for k, v in iterable:\n",
        "        d[k] = v\n",
        "```"
      ]
    },
    {
      "cell_type": "markdown",
      "id": "70b880cc",
      "metadata": {
        "id": "70b880cc"
      },
      "source": [
        "The `dict()` constructor builds dictionaries directly from sequences of key-value pairs"
      ]
    },
    {
      "cell_type": "code",
      "execution_count": null,
      "id": "cfd9483a",
      "metadata": {
        "id": "cfd9483a"
      },
      "outputs": [],
      "source": [
        "# create dict from list of tuples\n",
        "dict([('john', 111), ('jason', 222), ('jack', 333)])"
      ]
    },
    {
      "cell_type": "markdown",
      "id": "03d4415a",
      "metadata": {
        "id": "03d4415a"
      },
      "source": [
        "When the keys are simple strings, it is sometimes easier to specify pairs using keyword arguments"
      ]
    },
    {
      "cell_type": "code",
      "execution_count": null,
      "id": "639d8bd8",
      "metadata": {
        "id": "639d8bd8"
      },
      "outputs": [],
      "source": [
        "# no '' needed for the string\n",
        "dict(john = 111, jason = 222, jack = 333)"
      ]
    },
    {
      "cell_type": "code",
      "execution_count": null,
      "id": "bb9baf8e",
      "metadata": {
        "id": "bb9baf8e"
      },
      "outputs": [],
      "source": [
        "students['333-33-3333'] = \"Grace\" # Add a new item\n",
        "students"
      ]
    },
    {
      "cell_type": "code",
      "execution_count": null,
      "id": "d4b83ff2",
      "metadata": {
        "id": "d4b83ff2"
      },
      "outputs": [],
      "source": [
        "students['111-11-1111'] = 'John Smith' # modify an item\n",
        "students"
      ]
    },
    {
      "cell_type": "code",
      "execution_count": null,
      "id": "bfede680",
      "metadata": {
        "id": "bfede680"
      },
      "outputs": [],
      "source": [
        "del students['222-22-2222'] # Delete an item\n",
        "students"
      ]
    },
    {
      "cell_type": "code",
      "execution_count": null,
      "id": "ef2c2130",
      "metadata": {
        "id": "ef2c2130"
      },
      "outputs": [],
      "source": [
        "dict1 = {'k1':{'k2':{'k3':[1, 2, 'get me']}}, 'k5': 3}"
      ]
    },
    {
      "cell_type": "code",
      "execution_count": null,
      "id": "aacf8410",
      "metadata": {
        "id": "aacf8410"
      },
      "outputs": [],
      "source": [
        "dict1['k1']['k2']['k3'][-1]"
      ]
    },
    {
      "cell_type": "markdown",
      "id": "ddd4e09d",
      "metadata": {
        "id": "ddd4e09d"
      },
      "source": [
        "### Looping Items\n",
        "You can use `for` loop to traverse all keys in the dictionary"
      ]
    },
    {
      "cell_type": "code",
      "execution_count": null,
      "id": "4167fe85",
      "metadata": {
        "id": "4167fe85"
      },
      "outputs": [],
      "source": [
        "for key in students:\n",
        "    print(key + \":\" + students[key])"
      ]
    },
    {
      "cell_type": "markdown",
      "id": "21bd8ed9",
      "metadata": {
        "id": "21bd8ed9"
      },
      "source": [
        "### Testing Whether a Key is in a Dictionary\n",
        "You can use the `in` and `not in` operator to determine whether a key is in the dictionary"
      ]
    },
    {
      "cell_type": "code",
      "execution_count": null,
      "id": "dec8d97f",
      "metadata": {
        "id": "dec8d97f"
      },
      "outputs": [],
      "source": [
        "'333-33-3333' in students"
      ]
    },
    {
      "cell_type": "markdown",
      "id": "8c565ea8",
      "metadata": {
        "id": "8c565ea8"
      },
      "source": [
        "### Dictionary Comprehension\n",
        "**Syntax**\n",
        "\n",
        "`newdict = {key-expr: value-expr for item in iterable if condition == True}`"
      ]
    },
    {
      "cell_type": "code",
      "execution_count": null,
      "id": "b8e2ea17",
      "metadata": {
        "id": "b8e2ea17"
      },
      "outputs": [],
      "source": [
        "# for loop approach\n",
        "dict2 = {}\n",
        "dict1 = {'k1': 1, 'k2': 2, 'k3': 3}\n",
        "for k, v in dict1.items():\n",
        "    dict2[k] = 3 * v\n",
        "dict2"
      ]
    },
    {
      "cell_type": "code",
      "execution_count": null,
      "id": "d2170f71",
      "metadata": {
        "id": "d2170f71"
      },
      "outputs": [],
      "source": [
        "# for loop approach\n",
        "dict2 = {}\n",
        "dict1 = {'k1': 1, 'k2': 2, 'k3': 3}\n",
        "for k in dict1:\n",
        "    dict2[k] = 3 * dict1[k]\n",
        "dict2"
      ]
    },
    {
      "cell_type": "code",
      "execution_count": null,
      "id": "9a4f1b98",
      "metadata": {
        "id": "9a4f1b98"
      },
      "outputs": [],
      "source": [
        "# dictionary comprehension\n",
        "dict1 = {'k1': 1, 'k2': 2, 'k3': 3}\n",
        "dict2 = {k: 3 * v for k, v in dict1.items()}\n",
        "dict2"
      ]
    },
    {
      "cell_type": "code",
      "execution_count": null,
      "id": "84dddb19",
      "metadata": {
        "id": "84dddb19"
      },
      "outputs": [],
      "source": [
        "# dictionary comprehension\n",
        "dict1 = {'k1': 1, 'k2': 2, 'k3': 3}\n",
        "dict2 = {k: 3 * dict1[k] for k in dict1}\n",
        "dict2"
      ]
    },
    {
      "cell_type": "code",
      "execution_count": null,
      "id": "3be39f51",
      "metadata": {
        "id": "3be39f51"
      },
      "outputs": [],
      "source": [
        "# create a lookup map of strings to their locations on the list\n",
        "s = ['a', 'as', 'bat', 'car', 'dove', 'python']\n",
        "loc_mapping = {val : index for index, val in enumerate(s)}\n",
        "loc_mapping"
      ]
    },
    {
      "cell_type": "markdown",
      "id": "4131b02b",
      "metadata": {
        "id": "4131b02b"
      },
      "source": [
        "### Equality Test\n",
        "You can use the `==` and `!=` operator to test whether two dictionaries contain the same items (regardless of the order of the items in a dictionary). You cannot use the comparison operator (`>`, `>=`, `<` and `<=`) to compare dictionaries because the items are not ordered"
      ]
    },
    {
      "cell_type": "code",
      "execution_count": null,
      "id": "6e81006f",
      "metadata": {
        "id": "6e81006f"
      },
      "outputs": [],
      "source": [
        "d1 = {'red': 1, 'green': 2}\n",
        "d2 = {'green': 2, 'red': 1}\n",
        "d1 == d2"
      ]
    },
    {
      "cell_type": "markdown",
      "id": "8208075e",
      "metadata": {
        "id": "8208075e"
      },
      "source": [
        "### Dictionary Methods\n",
        "<div>\n",
        "<img src=\"attachment:f1.png\" width=\"500\"/>\n",
        "</div>"
      ]
    },
    {
      "cell_type": "code",
      "execution_count": null,
      "id": "8612618b",
      "metadata": {
        "id": "8612618b"
      },
      "outputs": [],
      "source": [
        "students"
      ]
    },
    {
      "cell_type": "code",
      "execution_count": null,
      "id": "a6dd9dc4",
      "metadata": {
        "id": "a6dd9dc4"
      },
      "outputs": [],
      "source": [
        "students.keys()"
      ]
    },
    {
      "cell_type": "code",
      "execution_count": null,
      "id": "42f1be85",
      "metadata": {
        "id": "42f1be85"
      },
      "outputs": [],
      "source": [
        "students.values()"
      ]
    },
    {
      "cell_type": "code",
      "execution_count": null,
      "id": "c3808f53",
      "metadata": {
        "id": "c3808f53"
      },
      "outputs": [],
      "source": [
        "students.items()"
      ]
    },
    {
      "cell_type": "markdown",
      "id": "df393cf6",
      "metadata": {
        "id": "df393cf6"
      },
      "source": [
        "#### `update()` Method\n",
        "- You can merge one dict into another using the `update()` method\n",
        "- The `update()` method changes dicts in-place so any existing keys in the data passed to `update()` will have their old values replaced\n",
        "- If the input argument `<obj>` of the `update()` is a dictionary, `update()` merges the entries from `<obj>` into dictionary. For each key in `<obj>`\n",
        "  - If the key is not present in dictionary, the key-value pair from `<obj>` is added to dictionary\n",
        "  - If the key is already present in dictionary, the corresponding value in dictionary for that key is updated to the value from `<obj>`"
      ]
    },
    {
      "cell_type": "code",
      "execution_count": null,
      "id": "d83184bb",
      "metadata": {
        "id": "d83184bb"
      },
      "outputs": [],
      "source": [
        "d1 = {'a': 'hello', 'b': [1, 2, 3], 'c': (3, 6)}\n",
        "d1.update({'b': 'foo', 'd': 'bar', 'e': 'baz'})\n",
        "d1"
      ]
    },
    {
      "cell_type": "markdown",
      "id": "3d337453",
      "metadata": {
        "id": "3d337453"
      },
      "source": [
        "Method `update()` can convert keyword arguments into key-value pairs to insert"
      ]
    },
    {
      "cell_type": "code",
      "execution_count": null,
      "id": "76ad7098",
      "metadata": {
        "id": "76ad7098"
      },
      "outputs": [],
      "source": [
        "d1.update(f='hello')\n",
        "d1"
      ]
    },
    {
      "cell_type": "markdown",
      "id": "90c5f105",
      "metadata": {
        "id": "90c5f105"
      },
      "source": [
        "#### `get()` Method\n",
        "The dict method `get` can take a default value to be returned. By default, `get` will return `None` if the key is not present"
      ]
    },
    {
      "cell_type": "code",
      "execution_count": null,
      "id": "d40447af",
      "metadata": {
        "id": "d40447af"
      },
      "outputs": [],
      "source": [
        "print(d1.get('f'))"
      ]
    },
    {
      "cell_type": "code",
      "execution_count": null,
      "id": "98b4ab08",
      "metadata": {
        "id": "98b4ab08"
      },
      "outputs": [],
      "source": [
        "d1['f']"
      ]
    },
    {
      "cell_type": "code",
      "execution_count": null,
      "id": "9be00f69",
      "metadata": {
        "id": "9be00f69"
      },
      "outputs": [],
      "source": [
        "# for the get method, you can specify an optional value to return if the specified key does not exist. Default value None\n",
        "print(d1.get('z', -1))"
      ]
    },
    {
      "cell_type": "code",
      "execution_count": null,
      "id": "28c7ebcc",
      "metadata": {
        "id": "28c7ebcc"
      },
      "outputs": [],
      "source": [
        "d1['z']"
      ]
    },
    {
      "cell_type": "markdown",
      "id": "a67b2451",
      "metadata": {
        "id": "a67b2451"
      },
      "source": [
        "#### `pop()` Method"
      ]
    },
    {
      "cell_type": "code",
      "execution_count": null,
      "id": "5f6a30f4",
      "metadata": {
        "scrolled": false,
        "id": "5f6a30f4"
      },
      "outputs": [],
      "source": [
        "d1.pop('z')"
      ]
    },
    {
      "cell_type": "code",
      "execution_count": null,
      "id": "5541e8f8",
      "metadata": {
        "id": "5541e8f8"
      },
      "outputs": [],
      "source": [
        "d1.pop('z', -1)"
      ]
    },
    {
      "cell_type": "code",
      "execution_count": null,
      "id": "60de8019",
      "metadata": {
        "id": "60de8019"
      },
      "outputs": [],
      "source": [
        "d1.pop('f')"
      ]
    },
    {
      "cell_type": "code",
      "execution_count": null,
      "id": "beb58643",
      "metadata": {
        "id": "beb58643"
      },
      "outputs": [],
      "source": [
        "d1"
      ]
    },
    {
      "cell_type": "markdown",
      "id": "b27e3aad",
      "metadata": {
        "id": "b27e3aad"
      },
      "source": [
        "#### `popitem()` Method\n",
        "- `popitem()` removes the last key-value pair added from the dictionary and returns it as a tuple\n",
        "- In Python versions less than 3.6, `popitem()` would return an arbitrary (random) key-value pair since Python dictionaries were unordered before version 3.6"
      ]
    },
    {
      "cell_type": "code",
      "execution_count": null,
      "id": "cfe55572",
      "metadata": {
        "id": "cfe55572"
      },
      "outputs": [],
      "source": [
        "d1.popitem()"
      ]
    },
    {
      "cell_type": "markdown",
      "id": "47f89068",
      "metadata": {
        "id": "47f89068"
      },
      "source": [
        "### Summary\n",
        "\n",
        "<div>\n",
        "<img src=\"attachment:f1.png\" width=\"600\"/>\n",
        "</div>"
      ]
    },
    {
      "cell_type": "markdown",
      "id": "1eee843e",
      "metadata": {
        "id": "1eee843e"
      },
      "source": [
        "### Lambda Function\n",
        "A lambda function is a small anonymous function. A lambda function can take any number of arguments, but **can only have a single expression**. Semantically, they are just syntactic sugar for a normal function definition\n",
        "\n",
        "**Syntax** <br>\n",
        "\n",
        "> ```python\n",
        "lambda arguments : expression\n",
        "\n",
        "The expression is executed and the result is returned"
      ]
    },
    {
      "cell_type": "code",
      "execution_count": null,
      "id": "fd24fc56",
      "metadata": {
        "id": "fd24fc56"
      },
      "outputs": [],
      "source": [
        "def f(a, b):\n",
        "    return a * b"
      ]
    },
    {
      "cell_type": "code",
      "execution_count": null,
      "id": "78f84696",
      "metadata": {
        "id": "78f84696"
      },
      "outputs": [],
      "source": [
        "lambda a, b : a * b"
      ]
    },
    {
      "cell_type": "code",
      "execution_count": null,
      "id": "2130de86",
      "metadata": {
        "id": "2130de86"
      },
      "outputs": [],
      "source": [
        "x = lambda a, b : a * b\n",
        "print(x(5, 6))"
      ]
    },
    {
      "cell_type": "code",
      "execution_count": null,
      "id": "8766c134",
      "metadata": {
        "id": "8766c134"
      },
      "outputs": [],
      "source": [
        "def myfunc(n):\n",
        "    return lambda a : a * n\n",
        "\n",
        "mydoubler = myfunc(2)\n",
        "mytripler = myfunc(3)\n",
        "\n",
        "print(mydoubler(11))\n",
        "print(mytripler(11))"
      ]
    },
    {
      "cell_type": "code",
      "execution_count": null,
      "id": "e21abdeb",
      "metadata": {
        "id": "e21abdeb"
      },
      "outputs": [],
      "source": [
        "# sort a collection of strings by the number of distinct letters in each string\n",
        "s = ['foo', 'card', 'bar', 'aaaa', 'abab']\n",
        "s.sort(key=lambda x: len(set(x)))\n",
        "s"
      ]
    },
    {
      "cell_type": "code",
      "execution_count": null,
      "id": "e5b9d5f1",
      "metadata": {
        "id": "e5b9d5f1"
      },
      "outputs": [],
      "source": [
        "pairs = [(1, 'one'), (4, 'four'), (2, 'two'), (3, 'three')]\n",
        "pairs.sort(key=lambda x: x[0])\n",
        "pairs"
      ]
    },
    {
      "cell_type": "markdown",
      "id": "32f68252",
      "metadata": {
        "id": "32f68252"
      },
      "source": [
        "Strings are compared by their characters’ underlying numerical values (*lexicographical order*), and lowercase letters have higher numerical values than uppercase letters. Assume that we’d like to determine the minimum and maximum strings using *alphabetical order*"
      ]
    },
    {
      "cell_type": "code",
      "execution_count": null,
      "id": "ba67df4d",
      "metadata": {
        "id": "ba67df4d"
      },
      "outputs": [],
      "source": [
        "colors = ['Red', 'black', 'Blue']\n",
        "print(max(colors), min(colors))"
      ]
    },
    {
      "cell_type": "code",
      "execution_count": null,
      "id": "13a57244",
      "metadata": {
        "id": "13a57244"
      },
      "outputs": [],
      "source": [
        "max(colors, key=lambda s: s.lower())"
      ]
    },
    {
      "cell_type": "code",
      "execution_count": null,
      "id": "30234584",
      "metadata": {
        "id": "30234584"
      },
      "outputs": [],
      "source": [
        "min(colors, key=lambda s: s.lower())"
      ]
    },
    {
      "cell_type": "markdown",
      "id": "24978bda",
      "metadata": {
        "id": "24978bda"
      },
      "source": [
        "### `map()` Function\n",
        "- The `map()` function executes a specified function for each item in an iterable\n",
        "- Function `map()`’s first argument is a function that receives one value and returns a new value\n",
        "- The second argument is an iterable of values to map. Function `map()` uses lazy evaluation - the function returns an iterator, so map’s results are not produced until you iterate through them\n",
        "\n",
        "**Syntax**\n",
        "> ```python\n",
        "map(function, iterables)\n",
        "\n",
        "- `function`: Required. The function to execute for each item\n",
        "- `iterable`: Required. A sequence, collection or an iterator object. You can send as many iterables as you like, just make sure the function has one parameter for each iterable"
      ]
    },
    {
      "cell_type": "markdown",
      "id": "c62d395f",
      "metadata": {
        "id": "c62d395f"
      },
      "source": [
        "### `filter()` Function\n",
        "- The `filter()` function returns an iterator where the items are filtered through a function to test if the item is accepted or not\n",
        "- `filter()`’s first argument must be a function that receives one argument and returns `True` if the value should be included in the result\n",
        "- `filter()` returns an iterator, so filter’s results are not produced until you iterate through them - lazy evaluation\n",
        "\n",
        "**Syntax**\n",
        "> ```python\n",
        "filter(function, iterable)\n",
        "\n",
        "- `function`: A Function to be run for each item in the iterable\n",
        "- `iterable`: The iterable to be filtered"
      ]
    },
    {
      "cell_type": "markdown",
      "id": "bfccabef",
      "metadata": {
        "id": "bfccabef"
      },
      "source": [
        "### `zip()` Function\n",
        "- Built-in function `zip()` enables you to iterate over multiple iterables of data at the same time\n",
        "- It pairs up the elements of a number of lists, tuples or other sequences to create a list of tuples. - The `zip()` function returns a zip object, which is an iterator that produces tuples containing the elements at the same index in each iterables\n",
        "- If the passed iterators have different lengths, the iterator with the least items decides the length of the new iterator\n",
        "\n",
        "**Syntax**\n",
        "> ```python\n",
        "zip(iterator1, iterator2, iterator3 ...)\n",
        "\n",
        "`iterator1, iterator2, iterator3 ...`: Iterator objects that will be joined together. The zip() function takes iterables (can be zero or more), aggregates them in a **tuple**, and returns it\n",
        "    \n",
        "The `*` operator can be used in conjunction with `zip()` to unzip the list of tuples. It can unpack multiple tuples contained in a list\n",
        "\n",
        "`zip(*zippedList)`"
      ]
    },
    {
      "cell_type": "code",
      "execution_count": null,
      "id": "5236bbed",
      "metadata": {
        "id": "5236bbed"
      },
      "outputs": [],
      "source": [
        "#def myfunc(n):\n",
        "  #return len(n)\n",
        "\n",
        "x = map(len, ('apple', 'banana', 'cherry'))\n",
        "x"
      ]
    },
    {
      "cell_type": "code",
      "execution_count": null,
      "id": "b5914881",
      "metadata": {
        "id": "b5914881"
      },
      "outputs": [],
      "source": [
        "list(x)"
      ]
    },
    {
      "cell_type": "code",
      "execution_count": null,
      "id": "8e052f09",
      "metadata": {
        "id": "8e052f09"
      },
      "outputs": [],
      "source": [
        "def myfunc(a, b):\n",
        "    return a + b\n",
        "\n",
        "# x = map(myfunc, ('apple', 'banana', 'cherry'), (' orange', ' lemon', ' pineapple'))\n",
        "x = map(lambda a, b: a + b, ('apple', 'banana', 'cherry'), (' orange', ' lemon', ' pineapple'))\n",
        "\n",
        "print(x)\n",
        "\n",
        "#convert the map into a list, for readability\n",
        "print(list(x))"
      ]
    },
    {
      "cell_type": "code",
      "execution_count": null,
      "id": "96e8b442",
      "metadata": {
        "id": "96e8b442"
      },
      "outputs": [],
      "source": [
        "ages = [5, 12, 17, 18, 24, 32]\n",
        "\n",
        "def myFunc(x):\n",
        "    if x < 18:\n",
        "        return False\n",
        "    else:\n",
        "        return True\n",
        "\n",
        "adults = filter(myFunc, ages)\n",
        "\n",
        "print(adults)\n",
        "\n",
        "for x in adults:\n",
        "    print(x)"
      ]
    },
    {
      "cell_type": "code",
      "execution_count": null,
      "id": "847ee97f",
      "metadata": {
        "id": "847ee97f"
      },
      "outputs": [],
      "source": [
        "a = (\"John\", \"Charles\", \"Mike\")\n",
        "b = (\"Jenny\", \"Christy\", \"Monica\", \"Vicky\")\n",
        "\n",
        "x = zip(a, b)\n",
        "\n",
        "print(x)\n",
        "\n",
        "#use the list() function to display a readable version of the result\n",
        "\n",
        "print(list(x))"
      ]
    },
    {
      "cell_type": "code",
      "execution_count": null,
      "id": "df1a4948",
      "metadata": {
        "id": "df1a4948"
      },
      "outputs": [],
      "source": [
        "def times3(var):\n",
        "    return var * 3"
      ]
    },
    {
      "cell_type": "code",
      "execution_count": null,
      "id": "73af9619",
      "metadata": {
        "id": "73af9619"
      },
      "outputs": [],
      "source": [
        "s = [1, 2, 3, 4, 5, 6]"
      ]
    },
    {
      "cell_type": "code",
      "execution_count": null,
      "id": "0ac3334d",
      "metadata": {
        "id": "0ac3334d"
      },
      "outputs": [],
      "source": [
        "map(times3, s)"
      ]
    },
    {
      "cell_type": "code",
      "execution_count": null,
      "id": "d5a82cee",
      "metadata": {
        "id": "d5a82cee"
      },
      "outputs": [],
      "source": [
        "list(map(times3, s))"
      ]
    },
    {
      "cell_type": "code",
      "execution_count": null,
      "id": "3c491de7",
      "metadata": {
        "id": "3c491de7"
      },
      "outputs": [],
      "source": [
        "s = ['a', 'as', 'bat', 'car', 'dove', 'python']\n",
        "set(map(len, s))"
      ]
    },
    {
      "cell_type": "code",
      "execution_count": null,
      "id": "1fc941e7",
      "metadata": {
        "id": "1fc941e7"
      },
      "outputs": [],
      "source": [
        "s = [1, 2, 3, 4, 5, 6]\n",
        "list(map(lambda var: var * 3, s))"
      ]
    },
    {
      "cell_type": "code",
      "execution_count": null,
      "id": "11815f82",
      "metadata": {
        "id": "11815f82"
      },
      "outputs": [],
      "source": [
        "filter(lambda item: item % 2 == 0, s)"
      ]
    },
    {
      "cell_type": "code",
      "execution_count": null,
      "id": "df7bd5bb",
      "metadata": {
        "scrolled": true,
        "id": "df7bd5bb"
      },
      "outputs": [],
      "source": [
        "list(filter(lambda item: item % 2 == 0, s))"
      ]
    },
    {
      "cell_type": "markdown",
      "id": "474bda46",
      "metadata": {
        "id": "474bda46"
      },
      "source": [
        "A very common use of `zip()` is simultaneously iterating over multiple sequences, possibly also combined with `enumerate()`"
      ]
    },
    {
      "cell_type": "code",
      "execution_count": null,
      "id": "32250c4b",
      "metadata": {
        "id": "32250c4b"
      },
      "outputs": [],
      "source": [
        "seq1 = ['foo', 'bar', 'baz']\n",
        "seq2 = ['one', 'two', 'three']\n",
        "for i, (a, b) in enumerate(zip(seq1, seq2)):\n",
        "    print('{0}: {1}, {2}'.format(i, a, b))"
      ]
    },
    {
      "cell_type": "markdown",
      "id": "8f999473",
      "metadata": {
        "id": "8f999473"
      },
      "source": [
        "Given a zipped sequence, `zip()` can be applied in a clever way to unzip the sequence. Another way to think about this is converting a list of rows into a list of columns"
      ]
    },
    {
      "cell_type": "code",
      "execution_count": null,
      "id": "75170ec4",
      "metadata": {
        "id": "75170ec4"
      },
      "outputs": [],
      "source": [
        "coordinate = ['x', 'y', 'z']\n",
        "value = [1, 2, 3]\n",
        "\n",
        "result = zip(coordinate, value)\n",
        "result_list = list(result)\n",
        "print(result_list)"
      ]
    },
    {
      "cell_type": "code",
      "execution_count": null,
      "id": "ecfafa38",
      "metadata": {
        "id": "ecfafa38"
      },
      "outputs": [],
      "source": [
        "c, v =  zip(*result_list)\n",
        "print('c =', c)\n",
        "print('v =', v)"
      ]
    },
    {
      "cell_type": "markdown",
      "id": "cb976201",
      "metadata": {
        "id": "cb976201"
      },
      "source": [
        "### Functions as Objects\n",
        "Since Python functions are objects, many constructs can be easily expressed that are difficult to do in other languages. Suppose we are doing some data cleaning and need to apply a bunch of transformation to the following list of strings"
      ]
    },
    {
      "cell_type": "code",
      "execution_count": null,
      "id": "a92662ab",
      "metadata": {
        "id": "a92662ab"
      },
      "outputs": [],
      "source": [
        "states = ['   Alabama ', 'Georgia!', 'Georgia', 'georgia', 'FlOrIda', 'south   carolina##', 'West virginia?']"
      ]
    },
    {
      "cell_type": "code",
      "execution_count": null,
      "id": "22b95e50",
      "metadata": {
        "id": "22b95e50"
      },
      "outputs": [],
      "source": [
        "# approach 1\n",
        "import re\n",
        "\n",
        "def clean_strings(strings):\n",
        "    result = []\n",
        "    for value in strings:\n",
        "        value = value.strip()\n",
        "        value = re.sub('[!#?]', '', value)\n",
        "        value = value.title()\n",
        "        result.append(value)\n",
        "    return result\n",
        "\n",
        "clean_strings(states)"
      ]
    },
    {
      "cell_type": "code",
      "execution_count": null,
      "id": "6374a95d",
      "metadata": {
        "id": "6374a95d"
      },
      "outputs": [],
      "source": [
        "# approach 2\n",
        "def remove_punctuation(value):\n",
        "    return re.sub('[!#?]', '', value)\n",
        "\n",
        "clean_ops = [str.strip, remove_punctuation, str.title]\n",
        "\n",
        "def clean_strings(strings, ops):\n",
        "    result = []\n",
        "    for value in strings:\n",
        "        for function in ops:\n",
        "            value = function(value)\n",
        "        result.append(value)\n",
        "    return result\n",
        "\n",
        "clean_strings(states, clean_ops)"
      ]
    },
    {
      "cell_type": "code",
      "execution_count": null,
      "id": "6d9fc733",
      "metadata": {
        "id": "6d9fc733"
      },
      "outputs": [],
      "source": [
        "#approach 3\n",
        "for x in map(remove_punctuation, states):\n",
        "    print(x)"
      ]
    },
    {
      "cell_type": "markdown",
      "id": "5c4a7268",
      "metadata": {
        "id": "5c4a7268"
      },
      "source": [
        "### Generators\n",
        "A generator is a convenient way, similar to writing a normal function, to construct a new iterable object. Whereas normal functions execute and return a single result at a time, generators return a sequence of multiple results lazily, pausing after each one until the next one is requested. To create a generator, use the `yield` keyword instead of `return` in a function"
      ]
    },
    {
      "cell_type": "code",
      "execution_count": null,
      "id": "2c020e9c",
      "metadata": {
        "id": "2c020e9c"
      },
      "outputs": [],
      "source": [
        "def squares(n = 10):\n",
        "    print('Generating squares from 1 to {0}'.format(n ** 2))\n",
        "    for i in range(1, n + 1):\n",
        "        yield i ** 2"
      ]
    },
    {
      "cell_type": "markdown",
      "id": "064b9032",
      "metadata": {
        "id": "064b9032"
      },
      "source": [
        "When you actually call the generator, no code is immediately executed"
      ]
    },
    {
      "cell_type": "code",
      "execution_count": null,
      "id": "1a59c489",
      "metadata": {
        "id": "1a59c489"
      },
      "outputs": [],
      "source": [
        "gen = squares()\n",
        "gen"
      ]
    },
    {
      "cell_type": "code",
      "execution_count": null,
      "id": "607827aa",
      "metadata": {
        "id": "607827aa"
      },
      "outputs": [],
      "source": [
        "next(gen)"
      ]
    },
    {
      "cell_type": "code",
      "execution_count": null,
      "id": "7515a9e2",
      "metadata": {
        "id": "7515a9e2"
      },
      "outputs": [],
      "source": [
        "next(gen)"
      ]
    },
    {
      "cell_type": "code",
      "execution_count": null,
      "id": "1a50936e",
      "metadata": {
        "id": "1a50936e"
      },
      "outputs": [],
      "source": [
        "next(gen)"
      ]
    },
    {
      "cell_type": "code",
      "execution_count": null,
      "id": "3b40e3be",
      "metadata": {
        "id": "3b40e3be"
      },
      "outputs": [],
      "source": [
        "next(gen)"
      ]
    },
    {
      "cell_type": "markdown",
      "id": "78afaaa6",
      "metadata": {
        "id": "78afaaa6"
      },
      "source": [
        "The `list()` built-in function is frequently used in data processing as a way to materialize an iterator or generator expression"
      ]
    },
    {
      "cell_type": "code",
      "execution_count": null,
      "id": "077cd60b",
      "metadata": {
        "id": "077cd60b"
      },
      "outputs": [],
      "source": [
        "list(gen)"
      ]
    },
    {
      "cell_type": "code",
      "execution_count": null,
      "id": "d1f48ae1",
      "metadata": {
        "scrolled": false,
        "id": "d1f48ae1"
      },
      "outputs": [],
      "source": [
        "next(gen)"
      ]
    },
    {
      "cell_type": "markdown",
      "id": "cd2a1b3b",
      "metadata": {
        "id": "cd2a1b3b"
      },
      "source": [
        "It is not until you request elements from the generator that it begins executing its code"
      ]
    },
    {
      "cell_type": "code",
      "execution_count": null,
      "id": "106a96f3",
      "metadata": {
        "id": "106a96f3"
      },
      "outputs": [],
      "source": [
        "for x in gen:\n",
        "    print(x, end = ' ')"
      ]
    },
    {
      "cell_type": "markdown",
      "id": "6991f8e3",
      "metadata": {
        "id": "6991f8e3"
      },
      "source": [
        "### Generator Expressions\n",
        "Another even more concise way to make a generator is by using a generator expression. This is a generator analogue to list, set and dict comprehensions. To create a generator expression, enclose what would otherwise be a list comprehension within parentheses instead of brackets"
      ]
    },
    {
      "cell_type": "code",
      "execution_count": null,
      "id": "79eedfdc",
      "metadata": {
        "id": "79eedfdc"
      },
      "outputs": [],
      "source": [
        "gen = (x ** 2 for x in range(100))\n",
        "gen"
      ]
    },
    {
      "cell_type": "markdown",
      "id": "368d6bea",
      "metadata": {
        "id": "368d6bea"
      },
      "source": [
        "- Generator expressions can be used instead of list comprehensions as function argument\n",
        "- Note that the function call's parentheses also act as the generator expression's parentheses\n",
        "- These expressions are designed for situations where the generator is used right away by an enclosing function\n",
        "- Generator expressions are more compact but less versatile than full generator definitions and tend to be more memory friendly than equivalent list comprehensions"
      ]
    },
    {
      "cell_type": "code",
      "execution_count": null,
      "id": "49ce156b",
      "metadata": {
        "id": "49ce156b"
      },
      "outputs": [],
      "source": [
        "sum(x ** 2 for x in range(100))"
      ]
    },
    {
      "cell_type": "code",
      "execution_count": null,
      "id": "edc683c3",
      "metadata": {
        "id": "edc683c3"
      },
      "outputs": [],
      "source": [
        "dict((i, i **2) for i in range(5))"
      ]
    }
  ],
  "metadata": {
    "kernelspec": {
      "display_name": "Python 3 (ipykernel)",
      "language": "python",
      "name": "python3"
    },
    "language_info": {
      "codemirror_mode": {
        "name": "ipython",
        "version": 3
      },
      "file_extension": ".py",
      "mimetype": "text/x-python",
      "name": "python",
      "nbconvert_exporter": "python",
      "pygments_lexer": "ipython3",
      "version": "3.9.13"
    },
    "colab": {
      "provenance": [],
      "include_colab_link": true
    }
  },
  "nbformat": 4,
  "nbformat_minor": 5
}